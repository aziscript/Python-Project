{
 "cells": [
  {
   "cell_type": "markdown",
   "id": "f98bdeaa-eac6-4f30-b47e-d45e4eab9cb2",
   "metadata": {},
   "source": [
    "<div style=\"text-align: center; padding: 20px;\">\n",
    "    <img src=\"austin-distel-744oGeqpxPQ-unsplash.jpeg\" alt=\"​​Subscription Renewal Insights for a SaaS Company\" width=\"450\"/>\n",
    "</div>\n",
    "\n",
    "\n",
    "<!-- Image source - https://unsplash.com/photos/person-using-macbook-pro-744oGeqpxPQ\n",
    "-->\n",
    "\n",
    "    \n",
    "A SaaS company seeks to uncover what drives its clients to renew subscriptions. They’ve collected data on client details, subscription records, and economic indicators and would like to connect them to better understand its clients’ behavior. \n",
    "\n",
    "They’ve tasked you with analyzing these datasets to identify the key factors influencing clients’ decisions to renew their subscriptions. \n",
    "\n",
    "Your analysis will provide them with insights into which customers are renewing their products and the reasons behind their renewals. The company can leverage these insights to make informed decisions to increase renewal rates and improve customer loyalty, helping them stay competitive and ensure long-term growth.\n",
    "\n",
    "\n",
    "## The Data\n",
    "\n",
    "The company have provided you with three datasets for your analysis. A summary of each data is provided below.\n",
    "\n",
    "## `client_details.csv`\n",
    "\n",
    "| Column         | Description|\n",
    "|----------------|---------------------------------------------------------------|\n",
    "| `client_id`    | Unique identifier for each client. |\n",
    "| `company_size` | Size of the company (Small, Medium, Large).|\n",
    "| `industry`     | Industry to which the client belongs (Fintech, Gaming, Crypto, AI, E-commerce).|\n",
    "| `location`     | Location of the client (New York, New Jersey, Pennsylvania, Massachusetts, Connecticut).|\n",
    "\n",
    "## `subscription_records.csv`\n",
    "\n",
    "| Column             | Description   |\n",
    "|--------------------|---------------|\n",
    "| `client_id`        | Unique identifier for each client.|\n",
    "| `subscription_type`| Type of subscription (Yearly, Monthly).|\n",
    "| `start_date`       | Start date of the subscription - YYYY-MM-DD.|\n",
    "| `end_date`         | End date of the subscription - YYYY-MM-DD.|\n",
    "| `renewed`          | Indicates whether the subscription was renewed (True, False).|\n",
    "\n",
    "## `economic_indicators.csv`\n",
    "\n",
    "| Column           | Description                                       |\n",
    "|------------------|---------------------------------------------------|\n",
    "| `start_date`     | Start date of the economic indicator (Quarterly) - YYYY-MM-DD.|\n",
    "| `end_date`       | End date of the economic indicator (Quarterly) - YYYY-MM-DD.|\n",
    "| `inflation_rate` | Inflation rate in the period.|\n",
    "| `gdp_growth_rate`| Gross Domestic Product (GDP) growth rate in the period.|\n"
   ]
  },
  {
   "cell_type": "markdown",
   "id": "c955246d-ad74-4300-8437-d0cd4c1c56cd",
   "metadata": {},
   "source": [
    "A **SaaS** company seeks to uncover what drives its clients to renew their subscriptions. They've asked you to answer the following questions:\n",
    "\n",
    "1. **How many total Fintech and Crypto clients does the company have?**  \n",
    "   Store as an integer variable called `total_fintech_crypto_clients`.\n",
    "\n",
    "2. **Which industry has the highest renewal rate?**  \n",
    "   Store as a string variable called `top_industry`.\n",
    "\n",
    "3. **For clients that renewed their subscriptions, what was the average inflation rate when their subscriptions were renewed?**  \n",
    "   Store as a float variable called `average_inflation_for_renewals`."
   ]
  },
  {
   "cell_type": "code",
   "execution_count": null,
   "id": "0ed418b5-7219-40d8-8b04-d84c9992648e",
   "metadata": {},
   "outputs": [],
   "source": []
  }
 ],
 "metadata": {
  "colab": {
   "name": "Welcome to DataCamp Workspaces.ipynb",
   "provenance": []
  },
  "kernelspec": {
   "display_name": "Python [conda env:base] *",
   "language": "python",
   "name": "conda-base-py"
  },
  "language_info": {
   "codemirror_mode": {
    "name": "ipython",
    "version": 3
   },
   "file_extension": ".py",
   "mimetype": "text/x-python",
   "name": "python",
   "nbconvert_exporter": "python",
   "pygments_lexer": "ipython3",
   "version": "3.12.3"
  }
 },
 "nbformat": 4,
 "nbformat_minor": 5
}
