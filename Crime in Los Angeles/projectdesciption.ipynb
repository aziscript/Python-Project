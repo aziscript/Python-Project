{
 "cells": [
  {
   "cell_type": "markdown",
   "id": "6416c98c-4fd0-4b70-adc9-5cdeb12e45d1",
   "metadata": {},
   "source": [
    "## Los Angeles Crime Analysis Project\n",
    "\n",
    "Los Angeles, California. The City of Angels. Tinseltown. The Entertainment Capital of the World!\n",
    "\n",
    "Known for its warm weather, palm trees, sprawling coastline, and Hollywood, along with producing some of the most iconic films and songs. However, as with any highly populated city, it isn't always glamorous, and there can be a large volume of crime. That's where you can help!\n",
    "\n",
    "You have been asked to support the Los Angeles Police Department (LAPD) by analyzing crime data to identify patterns in criminal behavior. They plan to use your insights to allocate resources effectively to tackle various crimes in different areas.\n",
    "\n",
    "### The Data\n",
    "\n",
    "They have provided you with a single dataset to use. A summary and preview are provided below.\n",
    "\n",
    "It is a modified version of the original data, which is publicly available from Los Angeles Open Data.\n",
    "\n",
    "**`crimes.csv`**\n",
    "\n",
    "| Column        | Description                                                                                                                                                                                                                                                                                                                                           |\n",
    "|---------------|--------------------------------------------------------------------------------------------------------------------------------------------------------------------------------------------------------------------------------------------------------------------------------------------------------------------------------------------------------|\n",
    "| `DR_NO`       | Division of Records Number: Official file number made up of a 2-digit year, area ID, and 5 digits.                                                                                                                                                                                                                                                       |\n",
    "| `Date Rptd`   | Date reported - MM/DD/YYYY.                                                                                                                                                                                                                                                                                                                          |\n",
    "| `DATE OCC`    | Date of occurrence - MM/DD/YYYY.                                                                                                                                                                                                                                                                                                                       |\n",
    "| `TIME OCC`    | In 24-hour military time.                                                                                                                                                                                                                                                                                                                              |\n",
    "| `AREA NAME`   | The 21 Geographic Areas or Patrol Divisions are also given a name designation that references a landmark or the surrounding community that it is responsible for. For example, the 77th Street Division is located at the intersection of South Broadway and 77th Street, serving neighborhoods in South Los Angeles.                               |\n",
    "| `Crm Cd Desc` | Indicates the crime committed.                                                                                                                                                                                                                                                                                                                         |\n",
    "| `Vict Age`    | Victim's age in years.                                                                                                                                                                                                                                                                                                                                 |\n",
    "| `Vict Sex`    | Victim's sex: F: Female, M: Male, X: Unknown.                                                                                                                                                                                                                                                                                                          |\n",
    "| `Vict Descent`| Victim's descent:  <br> A - Other Asian <br> B - Black <br> C - Chinese <br> D - Cambodian <br> F - Filipino <br> G - Guamanian <br> H - Hispanic/Latin/Mexican <br> I - American Indian/Alaskan Native <br> J - Japanese <br> K - Korean <br> L - Laotian <br> O - Other <br> P - Pacific Islander <br> S - Samoan <br> U - Hawaiian <br> V - Vietnamese <br> W - White <br> X - Unknown <br> Z - Asian Indian |\n",
    "| `Weapon Desc` | Description of the weapon used (if applicable).                                                                                                                                                                                                                                                                                                        |\n",
    "| `Status Desc` | Crime status.                                                                                                                                                                                                                                                                                                                                           |\n",
    "| `LOCATION`    | Street address of the crime.                                                                                                                                                                                                                                                                                                                         |\n",
    "```"
   ]
  },
  {
   "cell_type": "code",
   "execution_count": null,
   "id": "ea8f6717-c041-47e6-bf16-049a18f99afa",
   "metadata": {},
   "outputs": [],
   "source": []
  }
 ],
 "metadata": {
  "kernelspec": {
   "display_name": "Python [conda env:base] *",
   "language": "python",
   "name": "conda-base-py"
  },
  "language_info": {
   "codemirror_mode": {
    "name": "ipython",
    "version": 3
   },
   "file_extension": ".py",
   "mimetype": "text/x-python",
   "name": "python",
   "nbconvert_exporter": "python",
   "pygments_lexer": "ipython3",
   "version": "3.12.3"
  }
 },
 "nbformat": 4,
 "nbformat_minor": 5
}
