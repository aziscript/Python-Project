{
 "cells": [
  {
   "cell_type": "markdown",
   "id": "f807bd93-b2c1-461f-a856-3a40df638b40",
   "metadata": {},
   "source": [
    "![Shopping image](shoppin_image.jpg)"
   ]
  },
  {
   "cell_type": "markdown",
   "id": "84b20643-ad4a-4ddf-87f1-f42a105ed2ac",
   "metadata": {},
   "source": [
    "Online shopping decisions rely on how consumers engage with online store content. You work for a new startup company that has just launched a new online shopping website. The marketing team asks you, a new data scientist, to review a dataset of online shoppers' purchasing intentions gathered over the last year. Specifically, the team wants you to generate some insights into customer browsing behaviors in November and December, the busiest months for shoppers. You have decided to identify two groups of customers: those with a low purchase rate and returning customers. After identifying these groups, you want to determine the probability that any of these customers will make a purchase in a new marketing campaign to help gauge potential success for next year's sales.\n",
    "\n",
    "### Data description:\n",
    "\n",
    "You are given an `online_shopping_session_data.csv` that contains several columns about each shopping session. Each shopping session corresponded to a single user. \n",
    "\n",
    "|Column|Description|\n",
    "|--------|-----------|\n",
    "|`SessionID`|unique session ID|\n",
    "|`Administrative`|number of pages visited related to the customer account|\n",
    "|`Administrative_Duration`|total amount of time spent (in seconds) on administrative pages|\n",
    "|`Informational`|number of pages visited related to the website and the company|\n",
    "|`Informational_Duration`|total amount of time spent (in seconds) on informational pages|\n",
    "|`ProductRelated`|number of pages visited related to available products|\n",
    "|`ProductRelated_Duration`|total amount of time spent (in seconds) on product-related pages|\n",
    "|`BounceRates`|average bounce rate of pages visited by the customer|\n",
    "|`ExitRates`|average exit rate of pages visited by the customer|\n",
    "|`PageValues`|average page value of pages visited by the customer|\n",
    "|`SpecialDay`|closeness of the site visiting time to a specific special day|\n",
    "|`Weekend`|indicator whether the session is on a weekend|\n",
    "|`Month`|month of the session date|\n",
    "|`CustomerType`|customer type|\n",
    "|`Purchase`|class label whether the customer make a purchase|abs"
   ]
  },
  {
   "cell_type": "code",
   "execution_count": null,
   "id": "0b68e1dc-489b-4db4-b1c4-e065ff209d93",
   "metadata": {},
   "outputs": [],
   "source": []
  }
 ],
 "metadata": {
  "kernelspec": {
   "display_name": "Python [conda env:base] *",
   "language": "python",
   "name": "conda-base-py"
  },
  "language_info": {
   "codemirror_mode": {
    "name": "ipython",
    "version": 3
   },
   "file_extension": ".py",
   "mimetype": "text/x-python",
   "name": "python",
   "nbconvert_exporter": "python",
   "pygments_lexer": "ipython3",
   "version": "3.12.3"
  }
 },
 "nbformat": 4,
 "nbformat_minor": 5
}
