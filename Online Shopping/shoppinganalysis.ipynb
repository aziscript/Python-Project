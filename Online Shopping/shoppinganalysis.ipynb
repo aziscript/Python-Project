{
 "cells": [
  {
   "cell_type": "markdown",
   "id": "a77a281a-115f-4981-adfb-35a2eb271fd1",
   "metadata": {},
   "source": [
    "### The marketing team asked you to analyze the behavior of online customers during November and December, the busiest months for shoppers.\n",
    "\n",
    "* What are the purchase rates for online shopping sessions by customer type for November and December? Store the result in a dictionary called `purchase_rates` in the format below using the exact names for keys.\n",
    "```python\n",
    "purchase_rates = {\"Returning_Customer\": 0.254, \"New_Customer\": 0.276}\n",
    "```\n",
    "* What is the strongest correlation in total time spent among page types by returning customers in November and December? Store the result in a dictionary called `top_correlation` in the format below using the exact names for keys.\n",
    "```python\n",
    "top_correlation = {\"pair\": (x_duration, y_duration), \"correlation\": 0.345}\n",
    "```\n",
    "\n",
    "* A new campaign for the returning customers will boost the purchase rate by 15%. What is the likelihood of achieving at least 100 sales out of 500 online shopping sessions for the returning customers? Store the result in a variable called `prob_at_least_100_sales`.\n",
    "\n",
    "* Optional: plot a binomial probability distribution chart to visualize your chances."
   ]
  },
  {
   "cell_type": "code",
   "execution_count": 32,
   "id": "007bdcbd-e971-41ee-b73f-426745ab607e",
   "metadata": {},
   "outputs": [],
   "source": [
    "import pandas as pd\n",
    "import numpy as np\n",
    "import matplotlib.pyplot as plt\n",
    "import seaborn as sns\n",
    "import scipy.stats as stats\n",
    "import altair as alt\n",
    "import pandas as pd\n",
    "import warnings\n",
    "warnings.filterwarnings('ignore')"
   ]
  },
  {
   "cell_type": "code",
   "execution_count": 34,
   "id": "4956e14d-3df5-40a2-9762-54b013a30407",
   "metadata": {},
   "outputs": [],
   "source": [
    "shopping_data = pd.read_csv('online_shopping_session_data.csv')"
   ]
  },
  {
   "cell_type": "code",
   "execution_count": 36,
   "id": "13f77733-2cee-44f8-a32c-66836394b7c3",
   "metadata": {},
   "outputs": [
    {
     "data": {
      "text/html": [
       "<div>\n",
       "<style scoped>\n",
       "    .dataframe tbody tr th:only-of-type {\n",
       "        vertical-align: middle;\n",
       "    }\n",
       "\n",
       "    .dataframe tbody tr th {\n",
       "        vertical-align: top;\n",
       "    }\n",
       "\n",
       "    .dataframe thead th {\n",
       "        text-align: right;\n",
       "    }\n",
       "</style>\n",
       "<table border=\"1\" class=\"dataframe\">\n",
       "  <thead>\n",
       "    <tr style=\"text-align: right;\">\n",
       "      <th></th>\n",
       "      <th>SessionID</th>\n",
       "      <th>Administrative</th>\n",
       "      <th>Administrative_Duration</th>\n",
       "      <th>Informational</th>\n",
       "      <th>Informational_Duration</th>\n",
       "      <th>ProductRelated</th>\n",
       "      <th>ProductRelated_Duration</th>\n",
       "      <th>BounceRates</th>\n",
       "      <th>ExitRates</th>\n",
       "      <th>PageValues</th>\n",
       "      <th>SpecialDay</th>\n",
       "      <th>Weekend</th>\n",
       "      <th>Month</th>\n",
       "      <th>CustomerType</th>\n",
       "      <th>Purchase</th>\n",
       "    </tr>\n",
       "  </thead>\n",
       "  <tbody>\n",
       "    <tr>\n",
       "      <th>0</th>\n",
       "      <td>1</td>\n",
       "      <td>0</td>\n",
       "      <td>0.0</td>\n",
       "      <td>0</td>\n",
       "      <td>0.0</td>\n",
       "      <td>1</td>\n",
       "      <td>0.000000</td>\n",
       "      <td>0.20</td>\n",
       "      <td>0.20</td>\n",
       "      <td>0.0</td>\n",
       "      <td>0.0</td>\n",
       "      <td>False</td>\n",
       "      <td>Feb</td>\n",
       "      <td>Returning_Customer</td>\n",
       "      <td>0.0</td>\n",
       "    </tr>\n",
       "    <tr>\n",
       "      <th>1</th>\n",
       "      <td>2</td>\n",
       "      <td>0</td>\n",
       "      <td>0.0</td>\n",
       "      <td>0</td>\n",
       "      <td>0.0</td>\n",
       "      <td>2</td>\n",
       "      <td>64.000000</td>\n",
       "      <td>0.00</td>\n",
       "      <td>0.10</td>\n",
       "      <td>0.0</td>\n",
       "      <td>0.0</td>\n",
       "      <td>False</td>\n",
       "      <td>Feb</td>\n",
       "      <td>Returning_Customer</td>\n",
       "      <td>0.0</td>\n",
       "    </tr>\n",
       "    <tr>\n",
       "      <th>2</th>\n",
       "      <td>3</td>\n",
       "      <td>0</td>\n",
       "      <td>0.0</td>\n",
       "      <td>0</td>\n",
       "      <td>0.0</td>\n",
       "      <td>1</td>\n",
       "      <td>0.000000</td>\n",
       "      <td>0.20</td>\n",
       "      <td>0.20</td>\n",
       "      <td>0.0</td>\n",
       "      <td>0.0</td>\n",
       "      <td>False</td>\n",
       "      <td>Feb</td>\n",
       "      <td>Returning_Customer</td>\n",
       "      <td>0.0</td>\n",
       "    </tr>\n",
       "    <tr>\n",
       "      <th>3</th>\n",
       "      <td>4</td>\n",
       "      <td>0</td>\n",
       "      <td>0.0</td>\n",
       "      <td>0</td>\n",
       "      <td>0.0</td>\n",
       "      <td>2</td>\n",
       "      <td>2.666667</td>\n",
       "      <td>0.05</td>\n",
       "      <td>0.14</td>\n",
       "      <td>0.0</td>\n",
       "      <td>0.0</td>\n",
       "      <td>False</td>\n",
       "      <td>Feb</td>\n",
       "      <td>Returning_Customer</td>\n",
       "      <td>0.0</td>\n",
       "    </tr>\n",
       "    <tr>\n",
       "      <th>4</th>\n",
       "      <td>5</td>\n",
       "      <td>0</td>\n",
       "      <td>0.0</td>\n",
       "      <td>0</td>\n",
       "      <td>0.0</td>\n",
       "      <td>10</td>\n",
       "      <td>627.500000</td>\n",
       "      <td>0.02</td>\n",
       "      <td>0.05</td>\n",
       "      <td>0.0</td>\n",
       "      <td>0.0</td>\n",
       "      <td>True</td>\n",
       "      <td>Feb</td>\n",
       "      <td>Returning_Customer</td>\n",
       "      <td>0.0</td>\n",
       "    </tr>\n",
       "  </tbody>\n",
       "</table>\n",
       "</div>"
      ],
      "text/plain": [
       "   SessionID  Administrative  Administrative_Duration  Informational  \\\n",
       "0          1               0                      0.0              0   \n",
       "1          2               0                      0.0              0   \n",
       "2          3               0                      0.0              0   \n",
       "3          4               0                      0.0              0   \n",
       "4          5               0                      0.0              0   \n",
       "\n",
       "   Informational_Duration  ProductRelated  ProductRelated_Duration  \\\n",
       "0                     0.0               1                 0.000000   \n",
       "1                     0.0               2                64.000000   \n",
       "2                     0.0               1                 0.000000   \n",
       "3                     0.0               2                 2.666667   \n",
       "4                     0.0              10               627.500000   \n",
       "\n",
       "   BounceRates  ExitRates  PageValues  SpecialDay  Weekend Month  \\\n",
       "0         0.20       0.20         0.0         0.0    False   Feb   \n",
       "1         0.00       0.10         0.0         0.0    False   Feb   \n",
       "2         0.20       0.20         0.0         0.0    False   Feb   \n",
       "3         0.05       0.14         0.0         0.0    False   Feb   \n",
       "4         0.02       0.05         0.0         0.0     True   Feb   \n",
       "\n",
       "         CustomerType  Purchase  \n",
       "0  Returning_Customer       0.0  \n",
       "1  Returning_Customer       0.0  \n",
       "2  Returning_Customer       0.0  \n",
       "3  Returning_Customer       0.0  \n",
       "4  Returning_Customer       0.0  "
      ]
     },
     "execution_count": 36,
     "metadata": {},
     "output_type": "execute_result"
    }
   ],
   "source": [
    "shopping_data.head()"
   ]
  },
  {
   "cell_type": "code",
   "execution_count": 38,
   "id": "755cee32-936a-451d-a0c1-ad40d80d185f",
   "metadata": {},
   "outputs": [
    {
     "data": {
      "text/plain": [
       "(12055, 15)"
      ]
     },
     "execution_count": 38,
     "metadata": {},
     "output_type": "execute_result"
    }
   ],
   "source": [
    "shopping_data.shape"
   ]
  },
  {
   "cell_type": "code",
   "execution_count": 40,
   "id": "ffec6fd5-510c-4cf6-b606-b29f6d54b682",
   "metadata": {},
   "outputs": [
    {
     "data": {
      "text/plain": [
       "array(['Returning_Customer', 'New_Customer', nan], dtype=object)"
      ]
     },
     "execution_count": 40,
     "metadata": {},
     "output_type": "execute_result"
    }
   ],
   "source": [
    "shopping_data['CustomerType'].unique()"
   ]
  },
  {
   "cell_type": "code",
   "execution_count": 43,
   "id": "5ede36e6-75a2-4362-8cb1-e36cc457d37e",
   "metadata": {},
   "outputs": [],
   "source": [
    "# Filter data for November and December\n",
    "nov_dec_data = shopping_data[shopping_data['Month'].isin(['Nov', 'Dec'])]\n",
    "\n",
    "# Calculate purchase rates by customer type\n",
    "purchase_rates_df = nov_dec_data.groupby('CustomerType')['Purchase'].mean()\n",
    "purchase_rates = purchase_rates_df.to_dict()\n",
    "\n",
    "# Filter for returning customers in November and December\n",
    "returning_customers_nov_dec = nov_dec_data[nov_dec_data['CustomerType'] == 'Returning_Customer']\n",
    "\n",
    "# Calculate correlations between duration columns\n",
    "duration_columns = ['Administrative_Duration', 'Informational_Duration', 'ProductRelated_Duration']\n",
    "correlation_matrix = returning_customers_nov_dec[duration_columns].corr()"
   ]
  },
  {
   "cell_type": "code",
   "execution_count": 45,
   "id": "cdb0bb6d-20ef-4788-a440-498cf582a3fa",
   "metadata": {},
   "outputs": [
    {
     "data": {
      "text/plain": [
       "{'New_Customer': 0.2733516483516483, 'Returning_Customer': 0.1955937667920473}"
      ]
     },
     "execution_count": 45,
     "metadata": {},
     "output_type": "execute_result"
    }
   ],
   "source": [
    "purchase_rates"
   ]
  },
  {
   "cell_type": "code",
   "execution_count": 47,
   "id": "11f2d762-091e-49c1-a124-6e43aa9eb834",
   "metadata": {},
   "outputs": [
    {
     "data": {
      "image/png": "[encoded data removed]",
      "text/plain": [
       "<Figure size 640x480 with 2 Axes>"
      ]
     },
     "metadata": {},
     "output_type": "display_data"
    }
   ],
   "source": [
    "sns.heatmap(correlation_matrix, annot=True, cmap='RdYlGn')\n",
    "plt.title('Correlation Matrix')\n",
    "plt.show()"
   ]
  },
  {
   "cell_type": "code",
   "execution_count": 49,
   "id": "78ddcc38-285e-4bc7-bd58-6f4d01c07041",
   "metadata": {},
   "outputs": [],
   "source": [
    "# Find the strongest correlation pair\n",
    "correlation_matrix_unstacked = correlation_matrix.unstack()\n",
    "correlation_matrix_sorted = correlation_matrix_unstacked.sort_values(kind=\"quicksort\", ascending=False)\n",
    "\n",
    "# Remove self-correlations and duplicate pairs\n",
    "correlation_matrix_sorted = correlation_matrix_sorted[correlation_matrix_sorted != 1.0]\n",
    "correlation_matrix_sorted = correlation_matrix_sorted.drop_duplicates()\n",
    "\n",
    "# Get the top correlation\n",
    "top_correlation_pair = correlation_matrix_sorted.index[0]\n",
    "top_correlation_value = correlation_matrix_sorted.iloc[0]\n",
    "\n",
    "top_correlation = {\"pair\": top_correlation_pair, \"correlation\": top_correlation_value}"
   ]
  },
  {
   "cell_type": "code",
   "execution_count": 51,
   "id": "dc167e4e-f28e-4519-a6a9-f9d3c6ff605d",
   "metadata": {},
   "outputs": [
    {
     "data": {
      "text/plain": [
       "{'pair': ('Administrative_Duration', 'ProductRelated_Duration'),\n",
       " 'correlation': 0.41689293883422823}"
      ]
     },
     "execution_count": 51,
     "metadata": {},
     "output_type": "execute_result"
    }
   ],
   "source": [
    "top_correlation"
   ]
  },
  {
   "cell_type": "code",
   "execution_count": 53,
   "id": "204caabf-8487-44ca-9669-19269e2fa1fb",
   "metadata": {},
   "outputs": [],
   "source": [
    "# Calculate the new purchase rate for returning customers\n",
    "initial_returning_rate = purchase_rates['Returning_Customer']\n",
    "boosted_returning_rate = initial_returning_rate * 1.15\n",
    "\n",
    "# Calculate the probability of at least 100 sales in 500 sessions\n",
    "n = 500  # Number of trials (sessions)\n",
    "p = boosted_returning_rate  # Probability of success (purchase)\n",
    "k = 100  # Minimum number of successes\n",
    "\n",
    "# Use the cumulative distribution function (CDF) to find P(X >= 100)\n",
    "# P(X >= 100) = 1 - P(X < 100) = 1 - P(X <= 99)\n",
    "prob_at_least_100_sales = 1 - stats.binom.cdf(k - 1, n, p)"
   ]
  },
  {
   "cell_type": "code",
   "execution_count": 55,
   "id": "d76b6b58-2f5b-477b-a026-b20a9cda1778",
   "metadata": {},
   "outputs": [
    {
     "data": {
      "text/plain": [
       "0.9190464150313484"
      ]
     },
     "execution_count": 55,
     "metadata": {},
     "output_type": "execute_result"
    }
   ],
   "source": [
    "prob_at_least_100_sales"
   ]
  },
  {
   "cell_type": "code",
   "execution_count": 57,
   "id": "b2186496-8209-4fa5-975e-97d45a74b6a4",
   "metadata": {},
   "outputs": [
    {
     "data": {
      "image/png": "[encoded data removed]",
      "text/plain": [
       "<Figure size 1200x600 with 1 Axes>"
      ]
     },
     "metadata": {},
     "output_type": "display_data"
    }
   ],
   "source": [
    "# Optional: plot the binomial distribution using Matplotlib\n",
    "# Create a range of possible sales numbers\n",
    "sales_range = list(range(n + 1))\n",
    "\n",
    "# Calculate the probability mass function (PMF) for each number of sales\n",
    "probabilities = [stats.binom.pmf(x, n, p) for x in sales_range]\n",
    "\n",
    "# Create the Matplotlib figure and axes\n",
    "plt.figure(figsize=(12, 6)) # Adjust figure size as needed\n",
    "plt.bar(sales_range, probabilities, color='skyblue')\n",
    "\n",
    "# Highlight the bars representing at least 100 sales\n",
    "highlight_sales = [x for x in sales_range if x >= k]\n",
    "highlight_probabilities = [stats.binom.pmf(x, n, p) for x in highlight_sales]\n",
    "plt.bar(highlight_sales, highlight_probabilities, color='red', label=f'At least {k} Sales')\n",
    "\n",
    "# Add labels and title\n",
    "plt.xlabel('Number of Sales in 500 Sessions')\n",
    "plt.ylabel('Probability')\n",
    "plt.title('Binomial Probability Distribution for Returning Customer Sales')\n",
    "plt.legend()\n",
    "plt.grid(axis='y', alpha=0.75) # Add a grid for better readability\n",
    "\n",
    "# Show the plot\n",
    "plt.show()"
   ]
  },
  {
   "cell_type": "code",
   "execution_count": 74,
   "id": "25064b2a-f64b-44c0-82e6-556241f63203",
   "metadata": {},
   "outputs": [
    {
     "name": "stdout",
     "output_type": "stream",
     "text": [
      "0.273\n"
     ]
    }
   ],
   "source": [
    "# New_Customer purchase rate\n",
    "print(round(purchase_rates['New_Customer'], 3)) # Use the built-in round function"
   ]
  },
  {
   "cell_type": "code",
   "execution_count": 76,
   "id": "c2cfa09e-348b-438c-b68d-f4bfef38211b",
   "metadata": {},
   "outputs": [
    {
     "name": "stdout",
     "output_type": "stream",
     "text": [
      "0.196\n"
     ]
    }
   ],
   "source": [
    "# Returning customer ppurchase_rates\n",
    "print(round(purchase_rates['Returning_Customer'], 3))"
   ]
  },
  {
   "cell_type": "code",
   "execution_count": 80,
   "id": "0eff5ba1-ef5d-44ca-8a33-66304bd534fb",
   "metadata": {},
   "outputs": [
    {
     "name": "stdout",
     "output_type": "stream",
     "text": [
      "0.417\n"
     ]
    }
   ],
   "source": [
    "# Top cocorrelation\n",
    "print(round(top_correlation['correlation'], 3))"
   ]
  },
  {
   "cell_type": "code",
   "execution_count": 82,
   "id": "e7d14a1e-f70a-4ede-a987-2c0bcbb36daa",
   "metadata": {},
   "outputs": [
    {
     "data": {
      "text/plain": [
       "0.919"
      ]
     },
     "execution_count": 82,
     "metadata": {},
     "output_type": "execute_result"
    }
   ],
   "source": [
    "prob_at_least_100_sales.round(3)"
   ]
  },
  {
   "cell_type": "markdown",
   "id": "93be6ab4-a984-46d9-bf6a-093b2c427c09",
   "metadata": {},
   "source": [
    "### Summary of the analysis:\n",
    "\n",
    "**Purchase Rates:**\n",
    "The calculated purchase rate for `Returning Customers` is approximately **0.196**, and for New Customers, it is approximately **0.273**.\n",
    "\n",
    "**Top Correlation:**\n",
    "The `strongest correlation` is between ***'Administrative_Duration'*** and ***'Informational_Duration'*** with a correlation value of approximately **0.417**.\n",
    "\n",
    "**Probability of At Least 100 Sales:**\n",
    "The calculated `probability of atleast 100 sales` is  approximately **0.919**.\n",
    "\n",
    "**Binomial Probability Distribution Chart:**\n",
    "An optional step in the analysis was to visualize the binomial probability distribution for the likelihood of sales for returning customers under the boosted purchase rate. A bar chart was generated using Matplotlib, showing the probability of achieving each possible number of sales from 0 to 500. The bars representing 100 sales or more were highlighted to visually represent the probability calculated for `prob_at_least_100_sales`. This chart provides a visual representation of the distribution of possible sales outcomes."
   ]
  },
  {
   "cell_type": "code",
   "execution_count": null,
   "id": "1dfc20e0-2566-4f33-b46f-e24cd25733c3",
   "metadata": {},
   "outputs": [],
   "source": []
  }
 ],
 "metadata": {
  "kernelspec": {
   "display_name": "Python [conda env:base] *",
   "language": "python",
   "name": "conda-base-py"
  },
  "language_info": {
   "codemirror_mode": {
    "name": "ipython",
    "version": 3
   },
   "file_extension": ".py",
   "mimetype": "text/x-python",
   "name": "python",
   "nbconvert_exporter": "python",
   "pygments_lexer": "ipython3",
   "version": "3.12.3"
  }
 },
 "nbformat": 4,
 "nbformat_minor": 5
}
