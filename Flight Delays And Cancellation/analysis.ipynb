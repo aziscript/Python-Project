{
 "cells": [
  {
   "cell_type": "markdown",
   "id": "2118526a-79f1-42ad-8786-3043703efc5f",
   "metadata": {},
   "source": [
    "## Analysis Problems\n",
    "\n",
    "**Which airlines and routes (for example \"PDX-SFO\") are most affected by flight delays, and what impact does wind have on departure delays?**\n",
    "\n",
    "---\n",
    "\n",
    "### Steps:\n",
    "\n",
    "1. **Load Data**\n",
    "   - Load the two CSV files into separate DataFrames.\n",
    "   - Explore the data and create any new columns that might benefit your analysis.\n",
    "\n",
    "2. **Routes Analysis**\n",
    "   - For routes, calculate the average departure delays and highest number of canceled flights.\n",
    "   - Store this as a DataFrame called `routes_delays_cancels`, resetting the index after calculating.\n",
    "\n",
    "3. **Airlines Analysis**\n",
    "   - For airlines, determine the average departure delays and the highest number of canceled flights.\n",
    "   - Store this as a DataFrame called `airlines_delays_cancels`, resetting the index after calculating.\n",
    "\n",
    "4. **Visualization**\n",
    "   - Produce two bar graphs:\n",
    "     1. The top 9 highest number of cancellations by route in a plot called `top9_route_cancels_bar`.\n",
    "     2. The top 9 highest average departure delays by airline in a plot called `top9_airline_delays_bar`.\n",
    "\n",
    "5. **Wind Analysis**\n",
    "   - Determine if 10 mile per hour wind gusts or more have a larger average departure delay for both SEA and PDX,\n",
    "     - Set `wind_response` to `True` if so, and `False` if not."
   ]
  },
  {
   "cell_type": "code",
   "execution_count": 7,
   "id": "3fc7ead8-9908-4716-8fea-ac7daae68897",
   "metadata": {},
   "outputs": [],
   "source": [
    "# Import required libraries\n",
    "import pandas as pd\n",
    "import matplotlib.pyplot as plt"
   ]
  },
  {
   "cell_type": "code",
   "execution_count": 9,
   "id": "dbcf1a10-657b-451c-aadf-c90467e6938d",
   "metadata": {},
   "outputs": [],
   "source": [
    "# 1. Loading and manipulating data\n",
    "flights2022 = pd.read_csv('flights2022.csv')\n",
    "flights_weather2022 = pd.read_csv('flights_weather2022.csv')"
   ]
  },
  {
   "cell_type": "code",
   "execution_count": 11,
   "id": "af9ca961-dccd-46de-b270-37e0e1045496",
   "metadata": {},
   "outputs": [
    {
     "data": {
      "text/html": [
       "<div>\n",
       "<style scoped>\n",
       "    .dataframe tbody tr th:only-of-type {\n",
       "        vertical-align: middle;\n",
       "    }\n",
       "\n",
       "    .dataframe tbody tr th {\n",
       "        vertical-align: top;\n",
       "    }\n",
       "\n",
       "    .dataframe thead th {\n",
       "        text-align: right;\n",
       "    }\n",
       "</style>\n",
       "<table border=\"1\" class=\"dataframe\">\n",
       "  <thead>\n",
       "    <tr style=\"text-align: right;\">\n",
       "      <th></th>\n",
       "      <th>year</th>\n",
       "      <th>month</th>\n",
       "      <th>day</th>\n",
       "      <th>dep_time</th>\n",
       "      <th>sched_dep_time</th>\n",
       "      <th>dep_delay</th>\n",
       "      <th>arr_time</th>\n",
       "      <th>sched_arr_time</th>\n",
       "      <th>arr_delay</th>\n",
       "      <th>carrier</th>\n",
       "      <th>flight</th>\n",
       "      <th>tailnum</th>\n",
       "      <th>origin</th>\n",
       "      <th>dest</th>\n",
       "      <th>air_time</th>\n",
       "      <th>distance</th>\n",
       "      <th>hour</th>\n",
       "      <th>minute</th>\n",
       "      <th>time_hour</th>\n",
       "      <th>airline</th>\n",
       "    </tr>\n",
       "  </thead>\n",
       "  <tbody>\n",
       "    <tr>\n",
       "      <th>0</th>\n",
       "      <td>2022</td>\n",
       "      <td>1</td>\n",
       "      <td>1</td>\n",
       "      <td>1.0</td>\n",
       "      <td>2359</td>\n",
       "      <td>2.0</td>\n",
       "      <td>604.0</td>\n",
       "      <td>618</td>\n",
       "      <td>-14.0</td>\n",
       "      <td>UA</td>\n",
       "      <td>555</td>\n",
       "      <td>N405UA</td>\n",
       "      <td>SEA</td>\n",
       "      <td>IAH</td>\n",
       "      <td>221.0</td>\n",
       "      <td>1874</td>\n",
       "      <td>23</td>\n",
       "      <td>59</td>\n",
       "      <td>2022-01-01T23:00:00Z</td>\n",
       "      <td>United Air Lines Inc.</td>\n",
       "    </tr>\n",
       "    <tr>\n",
       "      <th>1</th>\n",
       "      <td>2022</td>\n",
       "      <td>1</td>\n",
       "      <td>1</td>\n",
       "      <td>1.0</td>\n",
       "      <td>2250</td>\n",
       "      <td>71.0</td>\n",
       "      <td>242.0</td>\n",
       "      <td>142</td>\n",
       "      <td>60.0</td>\n",
       "      <td>AS</td>\n",
       "      <td>72</td>\n",
       "      <td>N265AK</td>\n",
       "      <td>SEA</td>\n",
       "      <td>FAI</td>\n",
       "      <td>193.0</td>\n",
       "      <td>1533</td>\n",
       "      <td>22</td>\n",
       "      <td>50</td>\n",
       "      <td>2022-01-01T22:00:00Z</td>\n",
       "      <td>Alaska Airlines Inc.</td>\n",
       "    </tr>\n",
       "    <tr>\n",
       "      <th>2</th>\n",
       "      <td>2022</td>\n",
       "      <td>1</td>\n",
       "      <td>1</td>\n",
       "      <td>10.0</td>\n",
       "      <td>2355</td>\n",
       "      <td>15.0</td>\n",
       "      <td>759.0</td>\n",
       "      <td>730</td>\n",
       "      <td>29.0</td>\n",
       "      <td>AS</td>\n",
       "      <td>270</td>\n",
       "      <td>N274AK</td>\n",
       "      <td>SEA</td>\n",
       "      <td>ATL</td>\n",
       "      <td>261.0</td>\n",
       "      <td>2182</td>\n",
       "      <td>23</td>\n",
       "      <td>55</td>\n",
       "      <td>2022-01-01T23:00:00Z</td>\n",
       "      <td>Alaska Airlines Inc.</td>\n",
       "    </tr>\n",
       "    <tr>\n",
       "      <th>3</th>\n",
       "      <td>2022</td>\n",
       "      <td>1</td>\n",
       "      <td>1</td>\n",
       "      <td>25.0</td>\n",
       "      <td>2350</td>\n",
       "      <td>35.0</td>\n",
       "      <td>606.0</td>\n",
       "      <td>550</td>\n",
       "      <td>16.0</td>\n",
       "      <td>AS</td>\n",
       "      <td>7</td>\n",
       "      <td>N281AK</td>\n",
       "      <td>SEA</td>\n",
       "      <td>ORD</td>\n",
       "      <td>193.0</td>\n",
       "      <td>1721</td>\n",
       "      <td>23</td>\n",
       "      <td>50</td>\n",
       "      <td>2022-01-01T23:00:00Z</td>\n",
       "      <td>Alaska Airlines Inc.</td>\n",
       "    </tr>\n",
       "    <tr>\n",
       "      <th>4</th>\n",
       "      <td>2022</td>\n",
       "      <td>1</td>\n",
       "      <td>1</td>\n",
       "      <td>35.0</td>\n",
       "      <td>2349</td>\n",
       "      <td>46.0</td>\n",
       "      <td>616.0</td>\n",
       "      <td>545</td>\n",
       "      <td>31.0</td>\n",
       "      <td>UA</td>\n",
       "      <td>507</td>\n",
       "      <td>N426UA</td>\n",
       "      <td>PDX</td>\n",
       "      <td>ORD</td>\n",
       "      <td>196.0</td>\n",
       "      <td>1739</td>\n",
       "      <td>23</td>\n",
       "      <td>49</td>\n",
       "      <td>2022-01-01T23:00:00Z</td>\n",
       "      <td>United Air Lines Inc.</td>\n",
       "    </tr>\n",
       "  </tbody>\n",
       "</table>\n",
       "</div>"
      ],
      "text/plain": [
       "   year  month  day  dep_time  sched_dep_time  dep_delay  arr_time  \\\n",
       "0  2022      1    1       1.0            2359        2.0     604.0   \n",
       "1  2022      1    1       1.0            2250       71.0     242.0   \n",
       "2  2022      1    1      10.0            2355       15.0     759.0   \n",
       "3  2022      1    1      25.0            2350       35.0     606.0   \n",
       "4  2022      1    1      35.0            2349       46.0     616.0   \n",
       "\n",
       "   sched_arr_time  arr_delay carrier  flight tailnum origin dest  air_time  \\\n",
       "0             618      -14.0      UA     555  N405UA    SEA  IAH     221.0   \n",
       "1             142       60.0      AS      72  N265AK    SEA  FAI     193.0   \n",
       "2             730       29.0      AS     270  N274AK    SEA  ATL     261.0   \n",
       "3             550       16.0      AS       7  N281AK    SEA  ORD     193.0   \n",
       "4             545       31.0      UA     507  N426UA    PDX  ORD     196.0   \n",
       "\n",
       "   distance  hour  minute             time_hour                airline  \n",
       "0      1874    23      59  2022-01-01T23:00:00Z  United Air Lines Inc.  \n",
       "1      1533    22      50  2022-01-01T22:00:00Z   Alaska Airlines Inc.  \n",
       "2      2182    23      55  2022-01-01T23:00:00Z   Alaska Airlines Inc.  \n",
       "3      1721    23      50  2022-01-01T23:00:00Z   Alaska Airlines Inc.  \n",
       "4      1739    23      49  2022-01-01T23:00:00Z  United Air Lines Inc.  "
      ]
     },
     "execution_count": 11,
     "metadata": {},
     "output_type": "execute_result"
    }
   ],
   "source": [
    "# Initial Data Exploration (based on your notebook content) - Optional, but good practice\n",
    "flights2022.head()"
   ]
  },
  {
   "cell_type": "code",
   "execution_count": 17,
   "id": "37def81a-abc1-40c4-b8b5-018e3e399335",
   "metadata": {},
   "outputs": [
    {
     "name": "stdout",
     "output_type": "stream",
     "text": [
      "Unique airlines:\n"
     ]
    },
    {
     "data": {
      "text/plain": [
       "array(['United Air Lines Inc.', 'Alaska Airlines Inc.', 'JetBlue Airways',\n",
       "       'American Airlines Inc.', 'Horizon Air', 'Southwest Airlines Co.',\n",
       "       'Delta Air Lines Inc.', 'SkyWest Airlines Inc.',\n",
       "       'Hawaiian Airlines Inc.', 'Spirit Air Lines',\n",
       "       'Frontier Airlines Inc.', 'Allegiant Air'], dtype=object)"
      ]
     },
     "execution_count": 17,
     "metadata": {},
     "output_type": "execute_result"
    }
   ],
   "source": [
    "print(\"Unique airlines:\")\n",
    "flights2022['airline'].unique()"
   ]
  },
  {
   "cell_type": "code",
   "execution_count": 19,
   "id": "244dabfe-cb1d-4076-9ac6-86721a8eaba8",
   "metadata": {},
   "outputs": [
    {
     "name": "stdout",
     "output_type": "stream",
     "text": [
      "Number of unique airlines:\n"
     ]
    },
    {
     "data": {
      "text/plain": [
       "12"
      ]
     },
     "execution_count": 19,
     "metadata": {},
     "output_type": "execute_result"
    }
   ],
   "source": [
    "print(\"Number of unique airlines:\")\n",
    "len(flights2022['airline'].unique())"
   ]
  },
  {
   "cell_type": "code",
   "execution_count": 21,
   "id": "9b86943e-93aa-4f3d-a479-dbbb1c336b24",
   "metadata": {},
   "outputs": [
    {
     "name": "stdout",
     "output_type": "stream",
     "text": [
      "Number of rows and columns:\n"
     ]
    },
    {
     "data": {
      "text/plain": [
       "(111376, 20)"
      ]
     },
     "execution_count": 21,
     "metadata": {},
     "output_type": "execute_result"
    }
   ],
   "source": [
    "print(\"Number of rows and columns:\")\n",
    "flights2022.shape"
   ]
  },
  {
   "cell_type": "code",
   "execution_count": 31,
   "id": "45213977-e0ea-4b54-ba14-e51854bc4c1d",
   "metadata": {},
   "outputs": [
    {
     "name": "stdout",
     "output_type": "stream",
     "text": [
      "<class 'pandas.core.frame.DataFrame'>\n",
      "RangeIndex: 111376 entries, 0 to 111375\n",
      "Data columns (total 20 columns):\n",
      " #   Column          Non-Null Count   Dtype  \n",
      "---  ------          --------------   -----  \n",
      " 0   year            111376 non-null  int64  \n",
      " 1   month           111376 non-null  int64  \n",
      " 2   day             111376 non-null  int64  \n",
      " 3   dep_time        108931 non-null  float64\n",
      " 4   sched_dep_time  111376 non-null  int64  \n",
      " 5   dep_delay       108931 non-null  float64\n",
      " 6   arr_time        108834 non-null  float64\n",
      " 7   sched_arr_time  111376 non-null  int64  \n",
      " 8   arr_delay       108697 non-null  float64\n",
      " 9   carrier         111376 non-null  object \n",
      " 10  flight          111376 non-null  int64  \n",
      " 11  tailnum         111247 non-null  object \n",
      " 12  origin          111376 non-null  object \n",
      " 13  dest            111376 non-null  object \n",
      " 14  air_time        108697 non-null  float64\n",
      " 15  distance        111376 non-null  int64  \n",
      " 16  hour            111376 non-null  int64  \n",
      " 17  minute          111376 non-null  int64  \n",
      " 18  time_hour       111376 non-null  object \n",
      " 19  airline         111376 non-null  object \n",
      "dtypes: float64(5), int64(9), object(6)\n",
      "memory usage: 17.0+ MB\n"
     ]
    }
   ],
   "source": [
    "flights2022.info()"
   ]
  },
  {
   "cell_type": "code",
   "execution_count": 23,
   "id": "af44dc1e-554a-419e-9d71-efc131be1f10",
   "metadata": {},
   "outputs": [
    {
     "data": {
      "text/html": [
       "<div>\n",
       "<style scoped>\n",
       "    .dataframe tbody tr th:only-of-type {\n",
       "        vertical-align: middle;\n",
       "    }\n",
       "\n",
       "    .dataframe tbody tr th {\n",
       "        vertical-align: top;\n",
       "    }\n",
       "\n",
       "    .dataframe thead th {\n",
       "        text-align: right;\n",
       "    }\n",
       "</style>\n",
       "<table border=\"1\" class=\"dataframe\">\n",
       "  <thead>\n",
       "    <tr style=\"text-align: right;\">\n",
       "      <th></th>\n",
       "      <th>year</th>\n",
       "      <th>month</th>\n",
       "      <th>day</th>\n",
       "      <th>dep_time</th>\n",
       "      <th>sched_dep_time</th>\n",
       "      <th>dep_delay</th>\n",
       "      <th>arr_time</th>\n",
       "      <th>sched_arr_time</th>\n",
       "      <th>arr_delay</th>\n",
       "      <th>carrier</th>\n",
       "      <th>...</th>\n",
       "      <th>route</th>\n",
       "      <th>temp</th>\n",
       "      <th>dewp</th>\n",
       "      <th>humid</th>\n",
       "      <th>wind_dir</th>\n",
       "      <th>wind_speed</th>\n",
       "      <th>wind_gust</th>\n",
       "      <th>precip</th>\n",
       "      <th>pressure</th>\n",
       "      <th>visib</th>\n",
       "    </tr>\n",
       "  </thead>\n",
       "  <tbody>\n",
       "    <tr>\n",
       "      <th>0</th>\n",
       "      <td>2022</td>\n",
       "      <td>1</td>\n",
       "      <td>1</td>\n",
       "      <td>1.0</td>\n",
       "      <td>2359</td>\n",
       "      <td>2.0</td>\n",
       "      <td>604.0</td>\n",
       "      <td>618</td>\n",
       "      <td>-14.0</td>\n",
       "      <td>UA</td>\n",
       "      <td>...</td>\n",
       "      <td>SEA-IAH</td>\n",
       "      <td>33.0</td>\n",
       "      <td>23.0</td>\n",
       "      <td>66.06</td>\n",
       "      <td>160.0</td>\n",
       "      <td>8.05546</td>\n",
       "      <td>9.270062</td>\n",
       "      <td>0.0</td>\n",
       "      <td>1022.9</td>\n",
       "      <td>10.0</td>\n",
       "    </tr>\n",
       "    <tr>\n",
       "      <th>1</th>\n",
       "      <td>2022</td>\n",
       "      <td>1</td>\n",
       "      <td>1</td>\n",
       "      <td>1.0</td>\n",
       "      <td>2250</td>\n",
       "      <td>71.0</td>\n",
       "      <td>242.0</td>\n",
       "      <td>142</td>\n",
       "      <td>60.0</td>\n",
       "      <td>AS</td>\n",
       "      <td>...</td>\n",
       "      <td>SEA-FAI</td>\n",
       "      <td>32.0</td>\n",
       "      <td>23.0</td>\n",
       "      <td>69.04</td>\n",
       "      <td>170.0</td>\n",
       "      <td>9.20624</td>\n",
       "      <td>10.594357</td>\n",
       "      <td>0.0</td>\n",
       "      <td>1023.4</td>\n",
       "      <td>10.0</td>\n",
       "    </tr>\n",
       "    <tr>\n",
       "      <th>2</th>\n",
       "      <td>2022</td>\n",
       "      <td>1</td>\n",
       "      <td>1</td>\n",
       "      <td>10.0</td>\n",
       "      <td>2355</td>\n",
       "      <td>15.0</td>\n",
       "      <td>759.0</td>\n",
       "      <td>730</td>\n",
       "      <td>29.0</td>\n",
       "      <td>AS</td>\n",
       "      <td>...</td>\n",
       "      <td>SEA-ATL</td>\n",
       "      <td>33.0</td>\n",
       "      <td>23.0</td>\n",
       "      <td>66.06</td>\n",
       "      <td>160.0</td>\n",
       "      <td>8.05546</td>\n",
       "      <td>9.270062</td>\n",
       "      <td>0.0</td>\n",
       "      <td>1022.9</td>\n",
       "      <td>10.0</td>\n",
       "    </tr>\n",
       "    <tr>\n",
       "      <th>3</th>\n",
       "      <td>2022</td>\n",
       "      <td>1</td>\n",
       "      <td>1</td>\n",
       "      <td>25.0</td>\n",
       "      <td>2350</td>\n",
       "      <td>35.0</td>\n",
       "      <td>606.0</td>\n",
       "      <td>550</td>\n",
       "      <td>16.0</td>\n",
       "      <td>AS</td>\n",
       "      <td>...</td>\n",
       "      <td>SEA-ORD</td>\n",
       "      <td>33.0</td>\n",
       "      <td>23.0</td>\n",
       "      <td>66.06</td>\n",
       "      <td>160.0</td>\n",
       "      <td>8.05546</td>\n",
       "      <td>9.270062</td>\n",
       "      <td>0.0</td>\n",
       "      <td>1022.9</td>\n",
       "      <td>10.0</td>\n",
       "    </tr>\n",
       "    <tr>\n",
       "      <th>4</th>\n",
       "      <td>2022</td>\n",
       "      <td>1</td>\n",
       "      <td>1</td>\n",
       "      <td>35.0</td>\n",
       "      <td>2349</td>\n",
       "      <td>46.0</td>\n",
       "      <td>616.0</td>\n",
       "      <td>545</td>\n",
       "      <td>31.0</td>\n",
       "      <td>UA</td>\n",
       "      <td>...</td>\n",
       "      <td>PDX-ORD</td>\n",
       "      <td>33.0</td>\n",
       "      <td>19.0</td>\n",
       "      <td>55.75</td>\n",
       "      <td>120.0</td>\n",
       "      <td>6.90468</td>\n",
       "      <td>7.945768</td>\n",
       "      <td>0.0</td>\n",
       "      <td>1025.1</td>\n",
       "      <td>10.0</td>\n",
       "    </tr>\n",
       "  </tbody>\n",
       "</table>\n",
       "<p>5 rows × 29 columns</p>\n",
       "</div>"
      ],
      "text/plain": [
       "   year  month  day  dep_time  sched_dep_time  dep_delay  arr_time  \\\n",
       "0  2022      1    1       1.0            2359        2.0     604.0   \n",
       "1  2022      1    1       1.0            2250       71.0     242.0   \n",
       "2  2022      1    1      10.0            2355       15.0     759.0   \n",
       "3  2022      1    1      25.0            2350       35.0     606.0   \n",
       "4  2022      1    1      35.0            2349       46.0     616.0   \n",
       "\n",
       "   sched_arr_time  arr_delay carrier  ...    route  temp  dewp  humid  \\\n",
       "0             618      -14.0      UA  ...  SEA-IAH  33.0  23.0  66.06   \n",
       "1             142       60.0      AS  ...  SEA-FAI  32.0  23.0  69.04   \n",
       "2             730       29.0      AS  ...  SEA-ATL  33.0  23.0  66.06   \n",
       "3             550       16.0      AS  ...  SEA-ORD  33.0  23.0  66.06   \n",
       "4             545       31.0      UA  ...  PDX-ORD  33.0  19.0  55.75   \n",
       "\n",
       "   wind_dir  wind_speed  wind_gust  precip pressure visib  \n",
       "0     160.0     8.05546   9.270062     0.0   1022.9  10.0  \n",
       "1     170.0     9.20624  10.594357     0.0   1023.4  10.0  \n",
       "2     160.0     8.05546   9.270062     0.0   1022.9  10.0  \n",
       "3     160.0     8.05546   9.270062     0.0   1022.9  10.0  \n",
       "4     120.0     6.90468   7.945768     0.0   1025.1  10.0  \n",
       "\n",
       "[5 rows x 29 columns]"
      ]
     },
     "execution_count": 23,
     "metadata": {},
     "output_type": "execute_result"
    }
   ],
   "source": [
    "flights_weather2022.head()"
   ]
  },
  {
   "cell_type": "code",
   "execution_count": 27,
   "id": "7cadbf7e-0c23-4609-88b1-7e23764a5102",
   "metadata": {},
   "outputs": [
    {
     "name": "stdout",
     "output_type": "stream",
     "text": [
      "flights_weather2022 columns:\n",
      "Index(['year', 'month', 'day', 'dep_time', 'sched_dep_time', 'dep_delay',\n",
      "       'arr_time', 'sched_arr_time', 'arr_delay', 'carrier', 'flight',\n",
      "       'tailnum', 'origin', 'dest', 'air_time', 'distance', 'hour', 'minute',\n",
      "       'airline', 'route', 'temp', 'dewp', 'humid', 'wind_dir', 'wind_speed',\n",
      "       'wind_gust', 'precip', 'pressure', 'visib'],\n",
      "      dtype='object')\n",
      "\n",
      "flights_weather2022 shape:\n",
      "(111006, 29)\n"
     ]
    }
   ],
   "source": [
    "print(\"flights_weather2022 columns:\")\n",
    "print(flights_weather2022.columns)\n",
    "\n",
    "print(\"\\nflights_weather2022 shape:\")\n",
    "print(flights_weather2022.shape)"
   ]
  },
  {
   "cell_type": "code",
   "execution_count": 29,
   "id": "3a0c8253-2725-4c09-ac10-11aa3741a696",
   "metadata": {},
   "outputs": [
    {
     "name": "stdout",
     "output_type": "stream",
     "text": [
      "<class 'pandas.core.frame.DataFrame'>\n",
      "RangeIndex: 111006 entries, 0 to 111005\n",
      "Data columns (total 29 columns):\n",
      " #   Column          Non-Null Count   Dtype  \n",
      "---  ------          --------------   -----  \n",
      " 0   year            111006 non-null  int64  \n",
      " 1   month           111006 non-null  int64  \n",
      " 2   day             111006 non-null  int64  \n",
      " 3   dep_time        108566 non-null  float64\n",
      " 4   sched_dep_time  111006 non-null  int64  \n",
      " 5   dep_delay       108566 non-null  float64\n",
      " 6   arr_time        108469 non-null  float64\n",
      " 7   sched_arr_time  111006 non-null  int64  \n",
      " 8   arr_delay       108332 non-null  float64\n",
      " 9   carrier         111006 non-null  object \n",
      " 10  flight          111006 non-null  int64  \n",
      " 11  tailnum         110877 non-null  object \n",
      " 12  origin          111006 non-null  object \n",
      " 13  dest            111006 non-null  object \n",
      " 14  air_time        108332 non-null  float64\n",
      " 15  distance        111006 non-null  int64  \n",
      " 16  hour            111006 non-null  int64  \n",
      " 17  minute          111006 non-null  int64  \n",
      " 18  airline         111006 non-null  object \n",
      " 19  route           111006 non-null  object \n",
      " 20  temp            111006 non-null  float64\n",
      " 21  dewp            111006 non-null  float64\n",
      " 22  humid           111006 non-null  float64\n",
      " 23  wind_dir        107843 non-null  float64\n",
      " 24  wind_speed      110727 non-null  float64\n",
      " 25  wind_gust       110727 non-null  float64\n",
      " 26  precip          111006 non-null  float64\n",
      " 27  pressure        111006 non-null  float64\n",
      " 28  visib           111006 non-null  float64\n",
      "dtypes: float64(14), int64(9), object(6)\n",
      "memory usage: 24.6+ MB\n"
     ]
    }
   ],
   "source": [
    "flights_weather2022.info()"
   ]
  },
  {
   "cell_type": "code",
   "execution_count": 35,
   "id": "cf7b919c-3b67-4842-8cf6-b344f3d228fe",
   "metadata": {},
   "outputs": [
    {
     "name": "stdout",
     "output_type": "stream",
     "text": [
      "flights_weather2022 unique routes:\n"
     ]
    },
    {
     "data": {
      "text/plain": [
       "array(['SEA-IAH', 'SEA-FAI', 'SEA-ATL', 'SEA-ORD', 'PDX-ORD', 'PDX-JFK',\n",
       "       'SEA-MIA', 'SEA-PSC', 'SEA-IAD', 'SEA-DEN', 'PDX-PHX', 'PDX-MDW',\n",
       "       'SEA-OAK', 'PDX-DFW', 'SEA-PHX', 'SEA-LAS', 'PDX-SLC', 'SEA-PDX',\n",
       "       'PDX-SJC', 'SEA-CLT', 'PDX-ATL', 'PDX-DEN', 'SEA-SNA', 'SEA-DTW',\n",
       "       'PDX-OAK', 'SEA-LAX', 'PDX-SEA', 'PDX-LAS', 'PDX-SAN', 'PDX-SFO',\n",
       "       'PDX-MSP', 'SEA-ONT', 'PDX-ANC', 'SEA-SFO', 'SEA-PSP', 'PDX-HNL',\n",
       "       'PDX-SNA', 'SEA-ICT', 'SEA-MSO', 'PDX-KOA', 'PDX-LAX', 'SEA-STS',\n",
       "       'PDX-BOS', 'SEA-ANC', 'SEA-JFK', 'SEA-SJC', 'SEA-SLC', 'SEA-BOI',\n",
       "       'SEA-BOS', 'SEA-CMH', 'SEA-DFW', 'SEA-HNL', 'SEA-OKC', 'SEA-MSP',\n",
       "       'SEA-SBA', 'PDX-SMF', 'SEA-DAL', 'SEA-TUS', 'SEA-SAN', 'SEA-PHL',\n",
       "       'SEA-KOA', 'PDX-GEG', 'SEA-FLL', 'SEA-AUS', 'SEA-OGG', 'PDX-LIH',\n",
       "       'PDX-OGG', 'SEA-BZN', 'PDX-ONT', 'PDX-BOI', 'SEA-RDU', 'SEA-RSW',\n",
       "       'PDX-STL', 'SEA-DCA', 'SEA-MRY', 'SEA-GEG', 'SEA-SMF', 'SEA-MCO',\n",
       "       'PDX-MCO', 'PDX-EWR', 'SEA-MFR', 'SEA-BLI', 'SEA-FAT', 'SEA-RDM',\n",
       "       'SEA-EUG', 'SEA-STL', 'SEA-TPA', 'SEA-BIL', 'PDX-ABQ', 'PDX-DCA',\n",
       "       'SEA-IND', 'SEA-FCA', 'SEA-CVG', 'SEA-BUR', 'SEA-EWR', 'PDX-MCI',\n",
       "       'SEA-PIT', 'SEA-OMA', 'SEA-PUW', 'SEA-MSY', 'SEA-JAC', 'SEA-MKE',\n",
       "       'PDX-DAL', 'PDX-TUS', 'PDX-AUS', 'SEA-RNO', 'SEA-ALW', 'PDX-TPA',\n",
       "       'SEA-HLN', 'SEA-BNA', 'SEA-SAT', 'PDX-PSP', 'SEA-EAT', 'SEA-HDN',\n",
       "       'PDX-RNO', 'SEA-JNU', 'PDX-IAH', 'SEA-YKM', 'SEA-LIH', 'SEA-GTF',\n",
       "       'SEA-ELP', 'SEA-SUN', 'PDX-STS', 'PDX-MFR', 'PDX-BUR', 'SEA-KTN',\n",
       "       'SEA-SBP', 'SEA-ABQ', 'PDX-FAT', 'SEA-RDD', 'SEA-IDA', 'SEA-MCI',\n",
       "       'PDX-CLT', 'PDX-IAD', 'SEA-MDW', 'SEA-BWI', 'PDX-SBP', 'PDX-SBA',\n",
       "       'PDX-FLL', 'PDX-DTW', 'SEA-CHS', 'PDX-IDA', 'PDX-PAE', 'PDX-GRR',\n",
       "       'PDX-DSM', 'SEA-SIT', 'SEA-CLE', 'PDX-BZN', 'PDX-MSO'],\n",
       "      dtype=object)"
      ]
     },
     "execution_count": 35,
     "metadata": {},
     "output_type": "execute_result"
    }
   ],
   "source": [
    "print(\"flights_weather2022 unique routes:\")\n",
    "flights_weather2022['route'].unique()"
   ]
  },
  {
   "cell_type": "code",
   "execution_count": 37,
   "id": "945d02c1-782e-4f30-a77b-9873d54e7f8b",
   "metadata": {},
   "outputs": [
    {
     "data": {
      "text/plain": [
       "0"
      ]
     },
     "execution_count": 37,
     "metadata": {},
     "output_type": "execute_result"
    }
   ],
   "source": [
    "flights2022.duplicated().sum()"
   ]
  },
  {
   "cell_type": "code",
   "execution_count": 39,
   "id": "6332ca79-8fb3-40e2-be24-45682a7de031",
   "metadata": {},
   "outputs": [
    {
     "data": {
      "text/plain": [
       "0"
      ]
     },
     "execution_count": 39,
     "metadata": {},
     "output_type": "execute_result"
    }
   ],
   "source": [
    "flights_weather2022.duplicated().sum()"
   ]
  },
  {
   "cell_type": "code",
   "execution_count": 41,
   "id": "a61dffa5-0a28-4b2e-9018-dfe21cd078d9",
   "metadata": {},
   "outputs": [],
   "source": [
    "# Create the route column\n",
    "flights2022['route'] = flights2022['origin'] + '-' + flights2022['dest']"
   ]
  },
  {
   "cell_type": "code",
   "execution_count": 43,
   "id": "f8e53c20-9c0c-4276-8798-d3f20aa86aec",
   "metadata": {},
   "outputs": [],
   "source": [
    "# Create a boolean column for cancelled flights\n",
    "flights2022['is_cancelled'] = flights2022['dep_time'].isna()"
   ]
  },
  {
   "cell_type": "code",
   "execution_count": 45,
   "id": "3afa74bf-b0da-4387-b80f-250130a77bb1",
   "metadata": {},
   "outputs": [
    {
     "data": {
      "text/plain": [
       "Index(['year', 'month', 'day', 'dep_time', 'sched_dep_time', 'dep_delay',\n",
       "       'arr_time', 'sched_arr_time', 'arr_delay', 'carrier', 'flight',\n",
       "       'tailnum', 'origin', 'dest', 'air_time', 'distance', 'hour', 'minute',\n",
       "       'time_hour', 'airline', 'route', 'is_cancelled'],\n",
       "      dtype='object')"
      ]
     },
     "execution_count": 45,
     "metadata": {},
     "output_type": "execute_result"
    }
   ],
   "source": [
    "flights2022.columns"
   ]
  },
  {
   "cell_type": "code",
   "execution_count": 66,
   "id": "a938a65f-fbbd-4bea-aefa-687670f7d253",
   "metadata": {},
   "outputs": [],
   "source": [
    "# Calculate mean departure delay and number of canceled flights for each unique flight route\n",
    "routes_delays_cancels = flights2022.groupby('route').agg(\n",
    "    mean_dep_delay=('dep_delay', 'mean'),\n",
    "    total_cancellations=('is_cancelled', 'sum') # Use 'sum' on the boolean column\n",
    ").reset_index()\n",
    "\n",
    "# Identify routes with the highest mean departure delays\n",
    "top_routes_by_delay = routes_delays_cancels.sort_values(\"mean_dep_delay\", ascending=False).head(9)\n",
    "\n",
    "# Identify routes with the highest number of cancellations\n",
    "top_routes_by_cancellations = routes_delays_cancels.sort_values(\"total_cancellations\", ascending=False).head(9)"
   ]
  },
  {
   "cell_type": "code",
   "execution_count": 68,
   "id": "f3175dd7-1360-47dc-93bc-4ab56abd3115",
   "metadata": {},
   "outputs": [
    {
     "data": {
      "text/html": [
       "<div>\n",
       "<style scoped>\n",
       "    .dataframe tbody tr th:only-of-type {\n",
       "        vertical-align: middle;\n",
       "    }\n",
       "\n",
       "    .dataframe tbody tr th {\n",
       "        vertical-align: top;\n",
       "    }\n",
       "\n",
       "    .dataframe thead th {\n",
       "        text-align: right;\n",
       "    }\n",
       "</style>\n",
       "<table border=\"1\" class=\"dataframe\">\n",
       "  <thead>\n",
       "    <tr style=\"text-align: right;\">\n",
       "      <th></th>\n",
       "      <th>route</th>\n",
       "      <th>mean_dep_delay</th>\n",
       "      <th>total_cancellations</th>\n",
       "    </tr>\n",
       "  </thead>\n",
       "  <tbody>\n",
       "    <tr>\n",
       "      <th>0</th>\n",
       "      <td>PDX-ABQ</td>\n",
       "      <td>1.098039</td>\n",
       "      <td>2</td>\n",
       "    </tr>\n",
       "    <tr>\n",
       "      <th>1</th>\n",
       "      <td>PDX-ANC</td>\n",
       "      <td>4.748936</td>\n",
       "      <td>4</td>\n",
       "    </tr>\n",
       "    <tr>\n",
       "      <th>2</th>\n",
       "      <td>PDX-ATL</td>\n",
       "      <td>7.020979</td>\n",
       "      <td>13</td>\n",
       "    </tr>\n",
       "    <tr>\n",
       "      <th>3</th>\n",
       "      <td>PDX-AUS</td>\n",
       "      <td>5.435374</td>\n",
       "      <td>5</td>\n",
       "    </tr>\n",
       "    <tr>\n",
       "      <th>4</th>\n",
       "      <td>PDX-BOI</td>\n",
       "      <td>5.136430</td>\n",
       "      <td>7</td>\n",
       "    </tr>\n",
       "  </tbody>\n",
       "</table>\n",
       "</div>"
      ],
      "text/plain": [
       "     route  mean_dep_delay  total_cancellations\n",
       "0  PDX-ABQ        1.098039                    2\n",
       "1  PDX-ANC        4.748936                    4\n",
       "2  PDX-ATL        7.020979                   13\n",
       "3  PDX-AUS        5.435374                    5\n",
       "4  PDX-BOI        5.136430                    7"
      ]
     },
     "execution_count": 68,
     "metadata": {},
     "output_type": "execute_result"
    }
   ],
   "source": [
    "routes_delays_cancels.head()"
   ]
  },
  {
   "cell_type": "code",
   "execution_count": 84,
   "id": "3ba1296f-1208-47a8-8e60-2bf2f8b1ecbf",
   "metadata": {},
   "outputs": [
    {
     "data": {
      "image/png": "[encoded data removed]",
      "text/plain": [
       "<Figure size 640x480 with 1 Axes>"
      ]
     },
     "metadata": {},
     "output_type": "display_data"
    }
   ],
   "source": [
    "# Create a bar graph for highest number of cancellations\n",
    "import seaborn as sns\n",
    "sns.barplot(\n",
    "    data=top_routes_by_cancellations,\n",
    "    x=\"route\",\n",
    "    y=\"total_cancellations\",\n",
    "    order=top_routes_by_cancellations[\"route\"],\n",
    "    hue='route',\n",
    "    palette=\"viridis\",\n",
    ")\n",
    "plt.xlabel(\"Route\")\n",
    "plt.ylabel(\"Total Cancellations\")\n",
    "plt.title(\"Routes with Highest Number of Cancellations\")\n",
    "plt.xticks(rotation=90)\n",
    "plt.tight_layout()\n",
    "plt.show()"
   ]
  },
  {
   "cell_type": "code",
   "execution_count": 76,
   "id": "a53142ee-ba16-49ae-b101-ac6fc7a2784e",
   "metadata": {},
   "outputs": [],
   "source": [
    "# Find mean departure delays and total cancellations by airline\n",
    "airlines_delays_cancels = flights2022.groupby('airline').agg(\n",
    "    mean_dep_delay=('dep_delay', 'mean'),\n",
    "    total_cancellations=('is_cancelled', 'sum') # Use 'sum' on the boolean column\n",
    ").reset_index()\n",
    "\n",
    "# Identify airlines with the highest mean departure delay\n",
    "top_airlines_by_delay = airlines_delays_cancels.sort_values(\"mean_dep_delay\", ascending=False).head(9)\n",
    "\n",
    "# Identify airlines with the highest number of cancellations\n",
    "top_airlines_by_cancellations = airlines_delays_cancels.sort_values(\"total_cancellations\", ascending=False).head(9)"
   ]
  },
  {
   "cell_type": "code",
   "execution_count": 78,
   "id": "f0ac3271-956c-48b2-8422-fe9ee41e2d9f",
   "metadata": {},
   "outputs": [
    {
     "data": {
      "text/html": [
       "<div>\n",
       "<style scoped>\n",
       "    .dataframe tbody tr th:only-of-type {\n",
       "        vertical-align: middle;\n",
       "    }\n",
       "\n",
       "    .dataframe tbody tr th {\n",
       "        vertical-align: top;\n",
       "    }\n",
       "\n",
       "    .dataframe thead th {\n",
       "        text-align: right;\n",
       "    }\n",
       "</style>\n",
       "<table border=\"1\" class=\"dataframe\">\n",
       "  <thead>\n",
       "    <tr style=\"text-align: right;\">\n",
       "      <th></th>\n",
       "      <th>airline</th>\n",
       "      <th>mean_dep_delay</th>\n",
       "      <th>total_cancellations</th>\n",
       "    </tr>\n",
       "  </thead>\n",
       "  <tbody>\n",
       "    <tr>\n",
       "      <th>0</th>\n",
       "      <td>Alaska Airlines Inc.</td>\n",
       "      <td>6.739282</td>\n",
       "      <td>1300</td>\n",
       "    </tr>\n",
       "    <tr>\n",
       "      <th>1</th>\n",
       "      <td>Allegiant Air</td>\n",
       "      <td>26.608696</td>\n",
       "      <td>6</td>\n",
       "    </tr>\n",
       "    <tr>\n",
       "      <th>2</th>\n",
       "      <td>American Airlines Inc.</td>\n",
       "      <td>20.129903</td>\n",
       "      <td>85</td>\n",
       "    </tr>\n",
       "    <tr>\n",
       "      <th>3</th>\n",
       "      <td>Delta Air Lines Inc.</td>\n",
       "      <td>10.648634</td>\n",
       "      <td>383</td>\n",
       "    </tr>\n",
       "    <tr>\n",
       "      <th>4</th>\n",
       "      <td>Frontier Airlines Inc.</td>\n",
       "      <td>14.355856</td>\n",
       "      <td>12</td>\n",
       "    </tr>\n",
       "  </tbody>\n",
       "</table>\n",
       "</div>"
      ],
      "text/plain": [
       "                  airline  mean_dep_delay  total_cancellations\n",
       "0    Alaska Airlines Inc.        6.739282                 1300\n",
       "1           Allegiant Air       26.608696                    6\n",
       "2  American Airlines Inc.       20.129903                   85\n",
       "3    Delta Air Lines Inc.       10.648634                  383\n",
       "4  Frontier Airlines Inc.       14.355856                   12"
      ]
     },
     "execution_count": 78,
     "metadata": {},
     "output_type": "execute_result"
    }
   ],
   "source": [
    "airlines_delays_cancels.head()"
   ]
  },
  {
   "cell_type": "code",
   "execution_count": 86,
   "id": "caf39cd3-8f3f-4397-8250-1a82efc311ba",
   "metadata": {},
   "outputs": [
    {
     "data": {
      "image/png": "[encoded data removed]",
      "text/plain": [
       "<Figure size 640x480 with 1 Axes>"
      ]
     },
     "metadata": {},
     "output_type": "display_data"
    }
   ],
   "source": [
    "# Create a bar graph for highest mean depearture delay\n",
    "sns.barplot(\n",
    "    data=top_airlines_by_delay,\n",
    "    x=\"airline\",\n",
    "    y=\"mean_dep_delay\",\n",
    "    order=top_airlines_by_delay[\"airline\"],\n",
    "    hue='airline',\n",
    "    palette=\"viridis\",\n",
    "    dodge=False\n",
    ")\n",
    "plt.xlabel(\"Airline\")\n",
    "plt.ylabel(\"Mean Departure Delay\")\n",
    "plt.title(\"Airlines with Highest Mean Departure Delays\")\n",
    "plt.xticks(rotation=90)\n",
    "plt.tight_layout()\n",
    "plt.show()"
   ]
  },
  {
   "cell_type": "code",
   "execution_count": 94,
   "id": "22ca58f3-6131-4165-b095-aacf8c2cb8fd",
   "metadata": {},
   "outputs": [],
   "source": [
    "# Are departure delays impacted by 10+ mph winds from each airport\n",
    "flights_weather2022[\"group\"] = flights_weather2022[\"wind_gust\"].apply(lambda x: \">= 10mph\" if x >= 10 else \"< 10 mph\")\n",
    "\n",
    "wind_grouped_data = flights_weather2022.groupby([\"group\", \"origin\"]).agg(\n",
    "    mean_dep_delay=(\"dep_delay\", \"mean\")\n",
    ")\n",
    "\n",
    "wind_response = True"
   ]
  },
  {
   "cell_type": "code",
   "execution_count": 96,
   "id": "7c11825c-414f-4308-8556-887a7b60a340",
   "metadata": {},
   "outputs": [
    {
     "data": {
      "text/html": [
       "<div>\n",
       "<style scoped>\n",
       "    .dataframe tbody tr th:only-of-type {\n",
       "        vertical-align: middle;\n",
       "    }\n",
       "\n",
       "    .dataframe tbody tr th {\n",
       "        vertical-align: top;\n",
       "    }\n",
       "\n",
       "    .dataframe thead tr th {\n",
       "        text-align: left;\n",
       "    }\n",
       "\n",
       "    .dataframe thead tr:last-of-type th {\n",
       "        text-align: right;\n",
       "    }\n",
       "</style>\n",
       "<table border=\"1\" class=\"dataframe\">\n",
       "  <thead>\n",
       "    <tr>\n",
       "      <th></th>\n",
       "      <th colspan=\"2\" halign=\"left\">mean_dep_delay</th>\n",
       "    </tr>\n",
       "    <tr>\n",
       "      <th>origin</th>\n",
       "      <th>PDX</th>\n",
       "      <th>SEA</th>\n",
       "    </tr>\n",
       "    <tr>\n",
       "      <th>group</th>\n",
       "      <th></th>\n",
       "      <th></th>\n",
       "    </tr>\n",
       "  </thead>\n",
       "  <tbody>\n",
       "    <tr>\n",
       "      <th>&lt; 10 mph</th>\n",
       "      <td>6.686966</td>\n",
       "      <td>7.857595</td>\n",
       "    </tr>\n",
       "    <tr>\n",
       "      <th>&gt;= 10mph</th>\n",
       "      <td>9.147024</td>\n",
       "      <td>9.231060</td>\n",
       "    </tr>\n",
       "  </tbody>\n",
       "</table>\n",
       "</div>"
      ],
      "text/plain": [
       "         mean_dep_delay          \n",
       "origin              PDX       SEA\n",
       "group                            \n",
       "< 10 mph       6.686966  7.857595\n",
       ">= 10mph       9.147024  9.231060"
      ]
     },
     "execution_count": 96,
     "metadata": {},
     "output_type": "execute_result"
    }
   ],
   "source": [
    "wind_grouped_data.unstack()"
   ]
  },
  {
   "cell_type": "code",
   "execution_count": null,
   "id": "69e98039-faa3-424f-b11b-59421323cffb",
   "metadata": {},
   "outputs": [],
   "source": []
  }
 ],
 "metadata": {
  "kernelspec": {
   "display_name": "Python [conda env:base] *",
   "language": "python",
   "name": "conda-base-py"
  },
  "language_info": {
   "codemirror_mode": {
    "name": "ipython",
    "version": 3
   },
   "file_extension": ".py",
   "mimetype": "text/x-python",
   "name": "python",
   "nbconvert_exporter": "python",
   "pygments_lexer": "ipython3",
   "version": "3.12.3"
  }
 },
 "nbformat": 4,
 "nbformat_minor": 5
}
