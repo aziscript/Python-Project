{
 "cells": [
  {
   "cell_type": "markdown",
   "id": "b6bb71db-d177-4226-a70e-f1340d7c5a3a",
   "metadata": {},
   "source": [
    "## Help your hedge fund manager!\n",
    "\n",
    "You have two datasets at your disposal: `Balance_Sheet.xlsx` and `Income_Statement.xlsx`. Both these datasets have three columns in common:\n",
    "- `\"Company\"`: The company's ticker name.\n",
    "- `\"comp_type\"` The type of industry the company in question belongs to. It is either `\"tech\"` for companies in the technology industry, `\"fmcg\"` for companies in the fast-moving consumer goods industry, and `\"real_est\"` for companies in the real estate industry. \n",
    "- `\"Year\"`: The year the company's information is from.\n",
    "\n",
    "The rest of the columns in the datasets contain information from the financial statement of the `\"Company\"` in question. Note that the columns in `Balance_Sheet.xlsx` only contain financial information from the balance sheet. Similarly, the columns in `Income_Statement.xlsx` only contain financial information from the income statement. The columns are named accordingly. For instance, the column `\"Total Liab\"` from `Balance_Sheet.xlsx` is the total liability."
   ]
  },
  {
   "cell_type": "markdown",
   "id": "9cd2961b-31c5-4a84-ace4-67411038e3a5",
   "metadata": {},
   "source": [
    "### Objective\n",
    "To successfully complete the project for your manager, please compute two ratios:\n",
    "\n",
    "1. A **debt-to-equity ratio** or an **equity multiplier ratio**.  \n",
    "   Save this ratio in a column named `leverage_ratio` in a DataFrame called `df_ratios`.\n",
    "\n",
    "2. A **gross margin ratio** or an **operating margin ratio**.  \n",
    "   Save this ratio in a column named `profitability_ratio`, in a DataFrame called `df_ratios`.\n",
    "\n",
    "The datasets provided to you have information on the type of industry a company belongs to in a column called `comp_type`.  \n",
    "Your manager also needs you to answer these three questions:\n",
    "\n",
    "1. **Which company type (`comp_type`) has the lowest profitability ratio?**  \n",
    "   Save this `comp_type` value as a string in a variable called `lowest_profitability`.\n",
    "\n",
    "2. **Which company type has the highest leverage ratio?**  \n",
    "   Save this `comp_type` value as a string in a variable called `highest_leverage`.\n",
    "\n",
    "3. **What is the relationship between leverage and profitability in the real estate companies represented in this data?**  \n",
    "   Is it `\"positive\"`, `\"negative\"`, or `\"no relationship?\"`  \n",
    "   Save one of these three strings in a variable called `relationship`."
   ]
  },
  {
   "cell_type": "code",
   "execution_count": 4,
   "id": "03802598-e9a8-4b8f-96ba-58b87b2f0bdb",
   "metadata": {
    "executionCancelledAt": null,
    "executionTime": 5960,
    "lastExecutedAt": 1751038682016,
    "lastExecutedByKernel": "e1cd8e51-bee4-4e3d-88fe-681d393f33e8",
    "lastScheduledRunId": null,
    "lastSuccessfullyExecutedCode": "import numpy as np\nimport pandas as pd\nimport seaborn as sns\n\n# Read in the files\nbalance_sheet = pd.read_excel(\"data/Balance_Sheet.xlsx\")\nincome_statement = pd.read_excel(\"data/Income_Statement.xlsx\")\n\n# Merge both the dataframes and call it df_ratios\ndf_ratios = pd.merge(income_statement, balance_sheet, on = [\"Year\", \"company\", \"comp_type\"])\n\n# You only need to compute one profitability ratio, but since there is a choice, we are providing the code to compute both the gross margin ratio and the operating margin ratio \n\n# Compute gross margin ratio\ndf_ratios[\"profitability_ratio\"] = (df_ratios[\"Total Revenue\"] - df_ratios[\"Cost Of Goods Sold\"])/df_ratios[\"Total Revenue\"]\n\n# Compute operating margin ratio, but commenting it out\n# df_ratios[\"profitability_ratio\"] = (df_ratios[\"Total Revenue\"] - df_ratios[\"Total Operating Expenses\"])/df_ratios[\"Total Revenue\"]\n\n# You only need to compute one leverage ratio, but we are providing the code to compute both the debt-to-equity ratio and the equity multiplier ratio \n\n# Compute debt-to-equity ratio\ndf_ratios[\"leverage_ratio\"] = df_ratios[\"Total Liab\"]/df_ratios[\"Total Stockholder Equity\"]\n\n# Compute equity multiplier ratio, but commenting it out\n# df_ratios[\"leverage_ratio\"] = df_ratios[\"Total Assets\"]/df_ratios[\"Total Stockholder Equity\"]\n\n# Using pivot table to see the \"comp_type\" with the lowest average profitability ratio\nprint(df_ratios.pivot_table(index=\"comp_type\", values=\"profitability_ratio\"))\nlowest_profitability = \"fmcg\"\n\n# Using pivot table to see the \"comp_type\" with the highest average leverage ratio\nprint(df_ratios.pivot_table(index=\"comp_type\", values=\"leverage_ratio\"))\nhighest_leverage = \"real_est\"\n\n# Plot the leverage ratio on x-axis and profitability on y axis to see if real estate companies with higher leverage ratio have  higher profitability\ndf_real_est = df_ratios.loc[df_ratios[\"comp_type\"]==\"real_est\"]\nplot = sns.regplot(data=df_real_est, x=\"leverage_ratio\", y=\"profitability_ratio\")\nrelationship = \"positive\"",
    "outputsMetadata": {
     "0": {
      "height": 211,
      "type": "stream"
     }
    }
   },
   "outputs": [],
   "source": [
    "import numpy as np\n",
    "import pandas as pd\n",
    "import seaborn as sns\n",
    "\n",
    "# Read in the files\n",
    "balance_sheet = pd.read_excel(\"data/Balance_Sheet.xlsx\")\n",
    "income_statement = pd.read_excel(\"data/Income_Statement.xlsx\")"
   ]
  },
  {
   "cell_type": "code",
   "execution_count": 8,
   "id": "c9418808-7ef3-440f-a227-493dc4a00bd6",
   "metadata": {},
   "outputs": [
    {
     "data": {
      "text/html": [
       "<div>\n",
       "<style scoped>\n",
       "    .dataframe tbody tr th:only-of-type {\n",
       "        vertical-align: middle;\n",
       "    }\n",
       "\n",
       "    .dataframe tbody tr th {\n",
       "        vertical-align: top;\n",
       "    }\n",
       "\n",
       "    .dataframe thead th {\n",
       "        text-align: right;\n",
       "    }\n",
       "</style>\n",
       "<table border=\"1\" class=\"dataframe\">\n",
       "  <thead>\n",
       "    <tr style=\"text-align: right;\">\n",
       "      <th></th>\n",
       "      <th>Unnamed: 0</th>\n",
       "      <th>Year</th>\n",
       "      <th>comp_type</th>\n",
       "      <th>company</th>\n",
       "      <th>Accounts Payable</th>\n",
       "      <th>Cash</th>\n",
       "      <th>Inventory</th>\n",
       "      <th>Property Plant Equipment</th>\n",
       "      <th>Short Term Investments</th>\n",
       "      <th>Total Assets</th>\n",
       "      <th>Total Current Assets</th>\n",
       "      <th>Total Current Liabilities</th>\n",
       "      <th>Total Liab</th>\n",
       "      <th>Total Stockholder Equity</th>\n",
       "    </tr>\n",
       "  </thead>\n",
       "  <tbody>\n",
       "    <tr>\n",
       "      <th>0</th>\n",
       "      <td>0</td>\n",
       "      <td>2019</td>\n",
       "      <td>tech</td>\n",
       "      <td>AAPL</td>\n",
       "      <td>46236000000</td>\n",
       "      <td>48844000000</td>\n",
       "      <td>4.106000e+09</td>\n",
       "      <td>37378000000</td>\n",
       "      <td>5.171300e+10</td>\n",
       "      <td>338516000000</td>\n",
       "      <td>162819000000</td>\n",
       "      <td>105718000000</td>\n",
       "      <td>248028000000</td>\n",
       "      <td>90488000000</td>\n",
       "    </tr>\n",
       "    <tr>\n",
       "      <th>1</th>\n",
       "      <td>1</td>\n",
       "      <td>2020</td>\n",
       "      <td>tech</td>\n",
       "      <td>AAPL</td>\n",
       "      <td>42296000000</td>\n",
       "      <td>38016000000</td>\n",
       "      <td>4.061000e+09</td>\n",
       "      <td>45336000000</td>\n",
       "      <td>5.292700e+10</td>\n",
       "      <td>323888000000</td>\n",
       "      <td>143713000000</td>\n",
       "      <td>105392000000</td>\n",
       "      <td>258549000000</td>\n",
       "      <td>65339000000</td>\n",
       "    </tr>\n",
       "    <tr>\n",
       "      <th>2</th>\n",
       "      <td>2</td>\n",
       "      <td>2021</td>\n",
       "      <td>tech</td>\n",
       "      <td>AAPL</td>\n",
       "      <td>54763000000</td>\n",
       "      <td>34940000000</td>\n",
       "      <td>6.580000e+09</td>\n",
       "      <td>49527000000</td>\n",
       "      <td>2.769900e+10</td>\n",
       "      <td>351002000000</td>\n",
       "      <td>134836000000</td>\n",
       "      <td>125481000000</td>\n",
       "      <td>287912000000</td>\n",
       "      <td>63090000000</td>\n",
       "    </tr>\n",
       "    <tr>\n",
       "      <th>3</th>\n",
       "      <td>3</td>\n",
       "      <td>2022</td>\n",
       "      <td>tech</td>\n",
       "      <td>AAPL</td>\n",
       "      <td>64115000000</td>\n",
       "      <td>23646000000</td>\n",
       "      <td>4.946000e+09</td>\n",
       "      <td>84234000000</td>\n",
       "      <td>2.465800e+10</td>\n",
       "      <td>352755000000</td>\n",
       "      <td>135405000000</td>\n",
       "      <td>153982000000</td>\n",
       "      <td>302083000000</td>\n",
       "      <td>50672000000</td>\n",
       "    </tr>\n",
       "    <tr>\n",
       "      <th>4</th>\n",
       "      <td>4</td>\n",
       "      <td>2019</td>\n",
       "      <td>tech</td>\n",
       "      <td>MSFT</td>\n",
       "      <td>9382000000</td>\n",
       "      <td>11356000000</td>\n",
       "      <td>2.063000e+09</td>\n",
       "      <td>43856000000</td>\n",
       "      <td>1.224760e+11</td>\n",
       "      <td>286556000000</td>\n",
       "      <td>175552000000</td>\n",
       "      <td>69420000000</td>\n",
       "      <td>184226000000</td>\n",
       "      <td>102330000000</td>\n",
       "    </tr>\n",
       "  </tbody>\n",
       "</table>\n",
       "</div>"
      ],
      "text/plain": [
       "   Unnamed: 0  Year comp_type company  Accounts Payable         Cash  \\\n",
       "0           0  2019      tech    AAPL       46236000000  48844000000   \n",
       "1           1  2020      tech    AAPL       42296000000  38016000000   \n",
       "2           2  2021      tech    AAPL       54763000000  34940000000   \n",
       "3           3  2022      tech    AAPL       64115000000  23646000000   \n",
       "4           4  2019      tech    MSFT        9382000000  11356000000   \n",
       "\n",
       "      Inventory  Property Plant Equipment  Short Term Investments  \\\n",
       "0  4.106000e+09               37378000000            5.171300e+10   \n",
       "1  4.061000e+09               45336000000            5.292700e+10   \n",
       "2  6.580000e+09               49527000000            2.769900e+10   \n",
       "3  4.946000e+09               84234000000            2.465800e+10   \n",
       "4  2.063000e+09               43856000000            1.224760e+11   \n",
       "\n",
       "   Total Assets  Total Current Assets  Total Current Liabilities  \\\n",
       "0  338516000000          162819000000               105718000000   \n",
       "1  323888000000          143713000000               105392000000   \n",
       "2  351002000000          134836000000               125481000000   \n",
       "3  352755000000          135405000000               153982000000   \n",
       "4  286556000000          175552000000                69420000000   \n",
       "\n",
       "     Total Liab  Total Stockholder Equity  \n",
       "0  248028000000               90488000000  \n",
       "1  258549000000               65339000000  \n",
       "2  287912000000               63090000000  \n",
       "3  302083000000               50672000000  \n",
       "4  184226000000              102330000000  "
      ]
     },
     "execution_count": 8,
     "metadata": {},
     "output_type": "execute_result"
    }
   ],
   "source": [
    "balance_sheet.head()"
   ]
  },
  {
   "cell_type": "code",
   "execution_count": 10,
   "id": "6c37db36-b1da-43f6-831b-6df8edae3b77",
   "metadata": {},
   "outputs": [
    {
     "data": {
      "text/html": [
       "<div>\n",
       "<style scoped>\n",
       "    .dataframe tbody tr th:only-of-type {\n",
       "        vertical-align: middle;\n",
       "    }\n",
       "\n",
       "    .dataframe tbody tr th {\n",
       "        vertical-align: top;\n",
       "    }\n",
       "\n",
       "    .dataframe thead th {\n",
       "        text-align: right;\n",
       "    }\n",
       "</style>\n",
       "<table border=\"1\" class=\"dataframe\">\n",
       "  <thead>\n",
       "    <tr style=\"text-align: right;\">\n",
       "      <th></th>\n",
       "      <th>Unnamed: 0</th>\n",
       "      <th>Year</th>\n",
       "      <th>comp_type</th>\n",
       "      <th>company</th>\n",
       "      <th>Cost Of Goods Sold</th>\n",
       "      <th>Gross Profit</th>\n",
       "      <th>Operating Income</th>\n",
       "      <th>Total Operating Expenses</th>\n",
       "      <th>Total Revenue</th>\n",
       "    </tr>\n",
       "  </thead>\n",
       "  <tbody>\n",
       "    <tr>\n",
       "      <th>0</th>\n",
       "      <td>0</td>\n",
       "      <td>2019</td>\n",
       "      <td>tech</td>\n",
       "      <td>AAPL</td>\n",
       "      <td>161782000000</td>\n",
       "      <td>98392000000</td>\n",
       "      <td>63930000000</td>\n",
       "      <td>196244000000</td>\n",
       "      <td>260174000000</td>\n",
       "    </tr>\n",
       "    <tr>\n",
       "      <th>1</th>\n",
       "      <td>1</td>\n",
       "      <td>2020</td>\n",
       "      <td>tech</td>\n",
       "      <td>AAPL</td>\n",
       "      <td>169559000000</td>\n",
       "      <td>104956000000</td>\n",
       "      <td>66288000000</td>\n",
       "      <td>208227000000</td>\n",
       "      <td>274515000000</td>\n",
       "    </tr>\n",
       "    <tr>\n",
       "      <th>2</th>\n",
       "      <td>2</td>\n",
       "      <td>2021</td>\n",
       "      <td>tech</td>\n",
       "      <td>AAPL</td>\n",
       "      <td>212981000000</td>\n",
       "      <td>152836000000</td>\n",
       "      <td>108949000000</td>\n",
       "      <td>256868000000</td>\n",
       "      <td>365817000000</td>\n",
       "    </tr>\n",
       "    <tr>\n",
       "      <th>3</th>\n",
       "      <td>3</td>\n",
       "      <td>2022</td>\n",
       "      <td>tech</td>\n",
       "      <td>AAPL</td>\n",
       "      <td>223546000000</td>\n",
       "      <td>170782000000</td>\n",
       "      <td>119437000000</td>\n",
       "      <td>274891000000</td>\n",
       "      <td>394328000000</td>\n",
       "    </tr>\n",
       "    <tr>\n",
       "      <th>4</th>\n",
       "      <td>4</td>\n",
       "      <td>2019</td>\n",
       "      <td>tech</td>\n",
       "      <td>MSFT</td>\n",
       "      <td>42910000000</td>\n",
       "      <td>82933000000</td>\n",
       "      <td>42959000000</td>\n",
       "      <td>82884000000</td>\n",
       "      <td>125843000000</td>\n",
       "    </tr>\n",
       "  </tbody>\n",
       "</table>\n",
       "</div>"
      ],
      "text/plain": [
       "   Unnamed: 0  Year comp_type company  Cost Of Goods Sold  Gross Profit  \\\n",
       "0           0  2019      tech    AAPL        161782000000   98392000000   \n",
       "1           1  2020      tech    AAPL        169559000000  104956000000   \n",
       "2           2  2021      tech    AAPL        212981000000  152836000000   \n",
       "3           3  2022      tech    AAPL        223546000000  170782000000   \n",
       "4           4  2019      tech    MSFT         42910000000   82933000000   \n",
       "\n",
       "   Operating Income  Total Operating Expenses  Total Revenue  \n",
       "0       63930000000              196244000000   260174000000  \n",
       "1       66288000000              208227000000   274515000000  \n",
       "2      108949000000              256868000000   365817000000  \n",
       "3      119437000000              274891000000   394328000000  \n",
       "4       42959000000               82884000000   125843000000  "
      ]
     },
     "execution_count": 10,
     "metadata": {},
     "output_type": "execute_result"
    }
   ],
   "source": [
    "income_statement.head()"
   ]
  },
  {
   "cell_type": "code",
   "execution_count": 12,
   "id": "083c1409-8428-4125-9434-7c701f270d29",
   "metadata": {
    "executionCancelledAt": null,
    "executionTime": 5960,
    "lastExecutedAt": 1751038682016,
    "lastExecutedByKernel": "e1cd8e51-bee4-4e3d-88fe-681d393f33e8",
    "lastScheduledRunId": null,
    "lastSuccessfullyExecutedCode": "import numpy as np\nimport pandas as pd\nimport seaborn as sns\n\n# Read in the files\nbalance_sheet = pd.read_excel(\"data/Balance_Sheet.xlsx\")\nincome_statement = pd.read_excel(\"data/Income_Statement.xlsx\")\n\n# Merge both the dataframes and call it df_ratios\ndf_ratios = pd.merge(income_statement, balance_sheet, on = [\"Year\", \"company\", \"comp_type\"])\n\n# You only need to compute one profitability ratio, but since there is a choice, we are providing the code to compute both the gross margin ratio and the operating margin ratio \n\n# Compute gross margin ratio\ndf_ratios[\"profitability_ratio\"] = (df_ratios[\"Total Revenue\"] - df_ratios[\"Cost Of Goods Sold\"])/df_ratios[\"Total Revenue\"]\n\n# Compute operating margin ratio, but commenting it out\n# df_ratios[\"profitability_ratio\"] = (df_ratios[\"Total Revenue\"] - df_ratios[\"Total Operating Expenses\"])/df_ratios[\"Total Revenue\"]\n\n# You only need to compute one leverage ratio, but we are providing the code to compute both the debt-to-equity ratio and the equity multiplier ratio \n\n# Compute debt-to-equity ratio\ndf_ratios[\"leverage_ratio\"] = df_ratios[\"Total Liab\"]/df_ratios[\"Total Stockholder Equity\"]\n\n# Compute equity multiplier ratio, but commenting it out\n# df_ratios[\"leverage_ratio\"] = df_ratios[\"Total Assets\"]/df_ratios[\"Total Stockholder Equity\"]\n\n# Using pivot table to see the \"comp_type\" with the lowest average profitability ratio\nprint(df_ratios.pivot_table(index=\"comp_type\", values=\"profitability_ratio\"))\nlowest_profitability = \"fmcg\"\n\n# Using pivot table to see the \"comp_type\" with the highest average leverage ratio\nprint(df_ratios.pivot_table(index=\"comp_type\", values=\"leverage_ratio\"))\nhighest_leverage = \"real_est\"\n\n# Plot the leverage ratio on x-axis and profitability on y axis to see if real estate companies with higher leverage ratio have  higher profitability\ndf_real_est = df_ratios.loc[df_ratios[\"comp_type\"]==\"real_est\"]\nplot = sns.regplot(data=df_real_est, x=\"leverage_ratio\", y=\"profitability_ratio\")\nrelationship = \"positive\"",
    "outputsMetadata": {
     "0": {
      "height": 211,
      "type": "stream"
     }
    }
   },
   "outputs": [
    {
     "name": "stdout",
     "output_type": "stream",
     "text": [
      "           profitability_ratio\n",
      "comp_type                     \n",
      "fmcg                  0.514396\n",
      "real_est              0.534848\n",
      "tech                  0.572062\n"
     ]
    }
   ],
   "source": [
    "# Merge both the dataframes and call it df_ratios\n",
    "df_ratios = pd.merge(income_statement, balance_sheet, on = [\"Year\", \"company\", \"comp_type\"])\n",
    "\n",
    "# You only need to compute one profitability ratio, but since there is a choice, we are providing the code to compute both the gross margin ratio and the operating margin ratio \n",
    "\n",
    "# Compute gross margin ratio\n",
    "df_ratios[\"profitability_ratio\"] = (df_ratios[\"Total Revenue\"] - df_ratios[\"Cost Of Goods Sold\"])/df_ratios[\"Total Revenue\"]\n",
    "\n",
    "# Compute operating margin ratio, but commenting it out\n",
    "# df_ratios[\"profitability_ratio\"] = (df_ratios[\"Total Revenue\"] - df_ratios[\"Total Operating Expenses\"])/df_ratios[\"Total Revenue\"]\n",
    "\n",
    "# You only need to compute one leverage ratio, but we are providing the code to compute both the debt-to-equity ratio and the equity multiplier ratio \n",
    "\n",
    "# Compute debt-to-equity ratio\n",
    "df_ratios[\"leverage_ratio\"] = df_ratios[\"Total Liab\"]/df_ratios[\"Total Stockholder Equity\"]\n",
    "\n",
    "# Compute equity multiplier ratio, but commenting it out\n",
    "# df_ratios[\"leverage_ratio\"] = df_ratios[\"Total Assets\"]/df_ratios[\"Total Stockholder Equity\"]\n",
    "\n",
    "# Using pivot table to see the \"comp_type\" with the lowest average profitability ratio\n",
    "print(df_ratios.pivot_table(index=\"comp_type\", values=\"profitability_ratio\"))\n",
    "lowest_profitability = \"fmcg\""
   ]
  },
  {
   "cell_type": "code",
   "execution_count": 14,
   "id": "3709d981-6865-4f03-89ee-9912d9c63c0b",
   "metadata": {
    "executionCancelledAt": null,
    "executionTime": 5960,
    "lastExecutedAt": 1751038682016,
    "lastExecutedByKernel": "e1cd8e51-bee4-4e3d-88fe-681d393f33e8",
    "lastScheduledRunId": null,
    "lastSuccessfullyExecutedCode": "import numpy as np\nimport pandas as pd\nimport seaborn as sns\n\n# Read in the files\nbalance_sheet = pd.read_excel(\"data/Balance_Sheet.xlsx\")\nincome_statement = pd.read_excel(\"data/Income_Statement.xlsx\")\n\n# Merge both the dataframes and call it df_ratios\ndf_ratios = pd.merge(income_statement, balance_sheet, on = [\"Year\", \"company\", \"comp_type\"])\n\n# You only need to compute one profitability ratio, but since there is a choice, we are providing the code to compute both the gross margin ratio and the operating margin ratio \n\n# Compute gross margin ratio\ndf_ratios[\"profitability_ratio\"] = (df_ratios[\"Total Revenue\"] - df_ratios[\"Cost Of Goods Sold\"])/df_ratios[\"Total Revenue\"]\n\n# Compute operating margin ratio, but commenting it out\n# df_ratios[\"profitability_ratio\"] = (df_ratios[\"Total Revenue\"] - df_ratios[\"Total Operating Expenses\"])/df_ratios[\"Total Revenue\"]\n\n# You only need to compute one leverage ratio, but we are providing the code to compute both the debt-to-equity ratio and the equity multiplier ratio \n\n# Compute debt-to-equity ratio\ndf_ratios[\"leverage_ratio\"] = df_ratios[\"Total Liab\"]/df_ratios[\"Total Stockholder Equity\"]\n\n# Compute equity multiplier ratio, but commenting it out\n# df_ratios[\"leverage_ratio\"] = df_ratios[\"Total Assets\"]/df_ratios[\"Total Stockholder Equity\"]\n\n# Using pivot table to see the \"comp_type\" with the lowest average profitability ratio\nprint(df_ratios.pivot_table(index=\"comp_type\", values=\"profitability_ratio\"))\nlowest_profitability = \"fmcg\"\n\n# Using pivot table to see the \"comp_type\" with the highest average leverage ratio\nprint(df_ratios.pivot_table(index=\"comp_type\", values=\"leverage_ratio\"))\nhighest_leverage = \"real_est\"\n\n# Plot the leverage ratio on x-axis and profitability on y axis to see if real estate companies with higher leverage ratio have  higher profitability\ndf_real_est = df_ratios.loc[df_ratios[\"comp_type\"]==\"real_est\"]\nplot = sns.regplot(data=df_real_est, x=\"leverage_ratio\", y=\"profitability_ratio\")\nrelationship = \"positive\"",
    "outputsMetadata": {
     "0": {
      "height": 211,
      "type": "stream"
     }
    }
   },
   "outputs": [
    {
     "name": "stdout",
     "output_type": "stream",
     "text": [
      "           leverage_ratio\n",
      "comp_type                \n",
      "fmcg             2.997896\n",
      "real_est         5.692041\n",
      "tech             1.777448\n"
     ]
    }
   ],
   "source": [
    "# Using pivot table to see the \"comp_type\" with the highest average leverage ratio\n",
    "print(df_ratios.pivot_table(index=\"comp_type\", values=\"leverage_ratio\"))\n",
    "highest_leverage = \"real_est\""
   ]
  },
  {
   "cell_type": "code",
   "execution_count": null,
   "id": "ec77f8d2-3bb4-4473-a872-bed2da063510",
   "metadata": {
    "executionCancelledAt": null,
    "executionTime": 5960,
    "lastExecutedAt": 1751038682016,
    "lastExecutedByKernel": "e1cd8e51-bee4-4e3d-88fe-681d393f33e8",
    "lastScheduledRunId": null,
    "lastSuccessfullyExecutedCode": "import numpy as np\nimport pandas as pd\nimport seaborn as sns\n\n# Read in the files\nbalance_sheet = pd.read_excel(\"data/Balance_Sheet.xlsx\")\nincome_statement = pd.read_excel(\"data/Income_Statement.xlsx\")\n\n# Merge both the dataframes and call it df_ratios\ndf_ratios = pd.merge(income_statement, balance_sheet, on = [\"Year\", \"company\", \"comp_type\"])\n\n# You only need to compute one profitability ratio, but since there is a choice, we are providing the code to compute both the gross margin ratio and the operating margin ratio \n\n# Compute gross margin ratio\ndf_ratios[\"profitability_ratio\"] = (df_ratios[\"Total Revenue\"] - df_ratios[\"Cost Of Goods Sold\"])/df_ratios[\"Total Revenue\"]\n\n# Compute operating margin ratio, but commenting it out\n# df_ratios[\"profitability_ratio\"] = (df_ratios[\"Total Revenue\"] - df_ratios[\"Total Operating Expenses\"])/df_ratios[\"Total Revenue\"]\n\n# You only need to compute one leverage ratio, but we are providing the code to compute both the debt-to-equity ratio and the equity multiplier ratio \n\n# Compute debt-to-equity ratio\ndf_ratios[\"leverage_ratio\"] = df_ratios[\"Total Liab\"]/df_ratios[\"Total Stockholder Equity\"]\n\n# Compute equity multiplier ratio, but commenting it out\n# df_ratios[\"leverage_ratio\"] = df_ratios[\"Total Assets\"]/df_ratios[\"Total Stockholder Equity\"]\n\n# Using pivot table to see the \"comp_type\" with the lowest average profitability ratio\nprint(df_ratios.pivot_table(index=\"comp_type\", values=\"profitability_ratio\"))\nlowest_profitability = \"fmcg\"\n\n# Using pivot table to see the \"comp_type\" with the highest average leverage ratio\nprint(df_ratios.pivot_table(index=\"comp_type\", values=\"leverage_ratio\"))\nhighest_leverage = \"real_est\"\n\n# Plot the leverage ratio on x-axis and profitability on y axis to see if real estate companies with higher leverage ratio have  higher profitability\ndf_real_est = df_ratios.loc[df_ratios[\"comp_type\"]==\"real_est\"]\nplot = sns.regplot(data=df_real_est, x=\"leverage_ratio\", y=\"profitability_ratio\")\nrelationship = \"positive\"",
    "outputsMetadata": {
     "0": {
      "height": 211,
      "type": "stream"
     }
    }
   },
   "outputs": [],
   "source": [
    "# Plot the leverage ratio on x-axis and profitability on y axis to see if real estate companies with higher leverage ratio have  higher profitability\n",
    "df_real_est = df_ratios.loc[df_ratios[\"comp_type\"]==\"real_est\"]\n",
    "plot = sns.regplot(data=df_real_est, x=\"leverage_ratio\", y=\"profitability_ratio\")\n",
    "relationship = \"positive\""
   ]
  },
  {
   "cell_type": "code",
   "execution_count": null,
   "id": "4187afbb-8523-4c1b-ae3c-768722013de4",
   "metadata": {},
   "outputs": [],
   "source": []
  }
 ],
 "metadata": {
  "colab": {
   "name": "Welcome to DataCamp Workspaces.ipynb",
   "provenance": []
  },
  "kernelspec": {
   "display_name": "Python [conda env:base] *",
   "language": "python",
   "name": "conda-base-py"
  },
  "language_info": {
   "codemirror_mode": {
    "name": "ipython",
    "version": 3
   },
   "file_extension": ".py",
   "mimetype": "text/x-python",
   "name": "python",
   "nbconvert_exporter": "python",
   "pygments_lexer": "ipython3",
   "version": "3.12.3"
  }
 },
 "nbformat": 4,
 "nbformat_minor": 5
}
